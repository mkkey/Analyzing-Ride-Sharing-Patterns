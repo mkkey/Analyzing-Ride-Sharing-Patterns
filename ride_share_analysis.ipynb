{
 "cells": [
  {
   "cell_type": "markdown",
   "metadata": {},
   "source": [
    "# Analyzing Ride-Sharing Patterns: Insights for Zuber\n",
    "by Mikhail Karepov\n",
    "\n",
    "Zuber, a ride-sharing company. To help Zuber succeed, this project analyzes data on taxi rides and weather in the city. The goal is to find patterns, understand passenger preferences, and explore how factors like weather affect rides.\n",
    "\n",
    "Using SQL and Python, the analysis will uncover key insights to guide Zuber’s decisions and improve its services. From popular neighborhoods to the impact of weather, this project will provide a clear picture of what influences ride-sharing."
   ]
  },
  {
   "cell_type": "markdown",
   "metadata": {},
   "source": [
    "**Table of contents**<a id='toc0_'></a>    \n",
    "- 1. [Initialization](#toc1_)    \n",
    "- 2. [Load Data](#toc2_)    \n",
    "- 3. [Prepare the Data](#toc3_)    \n",
    "  - 3.1. [General Info](#toc3_1_)    \n",
    "  - 3.2. [Fix Data](#toc3_2_)    \n",
    "    - 3.2.1. [Data Types](#toc3_2_1_)    \n",
    "    - 3.2.2. [Duplicates](#toc3_2_2_)    \n",
    "    - 3.2.3. [Enriching Data](#toc3_2_3_)    \n",
    "- 4. [Final Data](#toc4_)    \n",
    "- 5. [Data Analysis](#toc5_)    \n",
    "  - 5.1. [Neighborhood Drop-offs](#toc5_1_)    \n",
    "  - 5.2. [Taxi Companies and Number of Rides](#toc5_2_)    \n",
    "- 6. [Testing Hypotheses](#toc6_)    \n",
    "- 7. [Overall Conclusions](#toc7_)    \n",
    "\n",
    "<!-- vscode-jupyter-toc-config\n",
    "\tnumbering=true\n",
    "\tanchor=true\n",
    "\tflat=false\n",
    "\tminLevel=3\n",
    "\tmaxLevel=6\n",
    "\t/vscode-jupyter-toc-config -->\n",
    "<!-- THIS CELL WILL BE REPLACED ON TOC UPDATE. DO NOT WRITE YOUR TEXT IN THIS CELL -->"
   ]
  },
  {
   "cell_type": "markdown",
   "metadata": {},
   "source": [
    "### 1. <a id='toc1_'></a>[Initialization](#toc0_)"
   ]
  },
  {
   "cell_type": "code",
   "execution_count": 1,
   "metadata": {},
   "outputs": [],
   "source": [
    "# Importing all the necessary libraries\n",
    "import pandas as pd  # For data manipulation and analysis\n",
    "import plotly.express as px  # For interactive data visualization\n",
    "import numpy as np  # For numerical operations\n",
    "from scipy import stats as st  # For statistical tests and functions"
   ]
  },
  {
   "cell_type": "markdown",
   "metadata": {},
   "source": [
    "### 2. <a id='toc2_'></a>[Load Data](#toc0_)"
   ]
  },
  {
   "cell_type": "code",
   "execution_count": 2,
   "metadata": {},
   "outputs": [],
   "source": [
    "rides_data = pd.read_csv('./datasets/project_sql_result_01.csv')  # Taxi companies and rides\n",
    "neighborhoods_data = pd.read_csv('./datasets/project_sql_result_04.csv')  # Drop-off locations and average trips\n",
    "loop_ohare_data = pd.read_csv('./datasets/project_sql_result_07.csv') # Loop to O'Hare rides with weather"
   ]
  },
  {
   "cell_type": "markdown",
   "metadata": {},
   "source": [
    "### 3. <a id='toc3_'></a>[Prepare the Data](#toc0_)"
   ]
  },
  {
   "cell_type": "markdown",
   "metadata": {},
   "source": [
    "#### 3.1. <a id='toc3_1_'></a>[General Info](#toc0_)"
   ]
  },
  {
   "cell_type": "markdown",
   "metadata": {},
   "source": [
    "The `rides_data` table (data on taxi companies and rides):\n",
    "\n",
    "* **company_name** — taxi company name\n",
    "* **trips_amount** — the number of rides for each taxi company\n",
    "\n",
    "The `neighborhoods_data` table (data on drop-off neighborhoods):\n",
    "\n",
    "* **dropoff_location_name** — Chicago neighborhoods where rides ended\n",
    "* **average_trips** — the average number of rides that ended in each neighborhood\n",
    "\n",
    "The `loop_ohare_data` table (data on Loop to O'Hare rides):\n",
    "\n",
    "* **start_ts** — pickup date and time\n",
    "* **weather_conditions** — weather conditions at the moment the ride started\n",
    "* **duration_seconds** — ride duration in seconds"
   ]
  },
  {
   "cell_type": "code",
   "execution_count": 3,
   "metadata": {},
   "outputs": [
    {
     "name": "stdout",
     "output_type": "stream",
     "text": [
      "<class 'pandas.core.frame.DataFrame'>\n",
      "RangeIndex: 64 entries, 0 to 63\n",
      "Data columns (total 2 columns):\n",
      " #   Column        Non-Null Count  Dtype \n",
      "---  ------        --------------  ----- \n",
      " 0   company_name  64 non-null     object\n",
      " 1   trips_amount  64 non-null     int64 \n",
      "dtypes: int64(1), object(1)\n",
      "memory usage: 1.1+ KB\n",
      "None\n"
     ]
    }
   ],
   "source": [
    "print(rides_data.info())"
   ]
  },
  {
   "cell_type": "code",
   "execution_count": 4,
   "metadata": {},
   "outputs": [
    {
     "name": "stdout",
     "output_type": "stream",
     "text": [
      "<class 'pandas.core.frame.DataFrame'>\n",
      "RangeIndex: 94 entries, 0 to 93\n",
      "Data columns (total 2 columns):\n",
      " #   Column                 Non-Null Count  Dtype  \n",
      "---  ------                 --------------  -----  \n",
      " 0   dropoff_location_name  94 non-null     object \n",
      " 1   average_trips          94 non-null     float64\n",
      "dtypes: float64(1), object(1)\n",
      "memory usage: 1.6+ KB\n",
      "None\n"
     ]
    }
   ],
   "source": [
    "print(neighborhoods_data.info())"
   ]
  },
  {
   "cell_type": "code",
   "execution_count": 5,
   "metadata": {},
   "outputs": [
    {
     "name": "stdout",
     "output_type": "stream",
     "text": [
      "<class 'pandas.core.frame.DataFrame'>\n",
      "RangeIndex: 1068 entries, 0 to 1067\n",
      "Data columns (total 3 columns):\n",
      " #   Column              Non-Null Count  Dtype  \n",
      "---  ------              --------------  -----  \n",
      " 0   start_ts            1068 non-null   object \n",
      " 1   weather_conditions  1068 non-null   object \n",
      " 2   duration_seconds    1068 non-null   float64\n",
      "dtypes: float64(1), object(2)\n",
      "memory usage: 25.2+ KB\n",
      "None\n"
     ]
    }
   ],
   "source": [
    "print(loop_ohare_data.info())"
   ]
  },
  {
   "cell_type": "code",
   "execution_count": 6,
   "metadata": {},
   "outputs": [
    {
     "data": {
      "text/html": [
       "<div>\n",
       "<style scoped>\n",
       "    .dataframe tbody tr th:only-of-type {\n",
       "        vertical-align: middle;\n",
       "    }\n",
       "\n",
       "    .dataframe tbody tr th {\n",
       "        vertical-align: top;\n",
       "    }\n",
       "\n",
       "    .dataframe thead th {\n",
       "        text-align: right;\n",
       "    }\n",
       "</style>\n",
       "<table border=\"1\" class=\"dataframe\">\n",
       "  <thead>\n",
       "    <tr style=\"text-align: right;\">\n",
       "      <th></th>\n",
       "      <th>company_name</th>\n",
       "      <th>trips_amount</th>\n",
       "    </tr>\n",
       "  </thead>\n",
       "  <tbody>\n",
       "    <tr>\n",
       "      <th>46</th>\n",
       "      <td>3620 - 52292 David K. Cab Corp.</td>\n",
       "      <td>21</td>\n",
       "    </tr>\n",
       "    <tr>\n",
       "      <th>5</th>\n",
       "      <td>Chicago Carriage Cab Corp</td>\n",
       "      <td>9181</td>\n",
       "    </tr>\n",
       "    <tr>\n",
       "      <th>4</th>\n",
       "      <td>Taxi Affiliation Service Yellow</td>\n",
       "      <td>9299</td>\n",
       "    </tr>\n",
       "    <tr>\n",
       "      <th>11</th>\n",
       "      <td>Globe Taxi</td>\n",
       "      <td>4383</td>\n",
       "    </tr>\n",
       "    <tr>\n",
       "      <th>48</th>\n",
       "      <td>3623 - 72222 Arrington Enterprises</td>\n",
       "      <td>20</td>\n",
       "    </tr>\n",
       "    <tr>\n",
       "      <th>58</th>\n",
       "      <td>5062 - 34841 Sam Mestas</td>\n",
       "      <td>8</td>\n",
       "    </tr>\n",
       "    <tr>\n",
       "      <th>57</th>\n",
       "      <td>Metro Group</td>\n",
       "      <td>11</td>\n",
       "    </tr>\n",
       "    <tr>\n",
       "      <th>27</th>\n",
       "      <td>Service Taxi Association</td>\n",
       "      <td>402</td>\n",
       "    </tr>\n",
       "    <tr>\n",
       "      <th>33</th>\n",
       "      <td>Metro Jet Taxi A</td>\n",
       "      <td>146</td>\n",
       "    </tr>\n",
       "    <tr>\n",
       "      <th>24</th>\n",
       "      <td>Chicago Taxicab</td>\n",
       "      <td>1014</td>\n",
       "    </tr>\n",
       "  </tbody>\n",
       "</table>\n",
       "</div>"
      ],
      "text/plain": [
       "                          company_name  trips_amount\n",
       "46     3620 - 52292 David K. Cab Corp.            21\n",
       "5            Chicago Carriage Cab Corp          9181\n",
       "4      Taxi Affiliation Service Yellow          9299\n",
       "11                          Globe Taxi          4383\n",
       "48  3623 - 72222 Arrington Enterprises            20\n",
       "58             5062 - 34841 Sam Mestas             8\n",
       "57                         Metro Group            11\n",
       "27            Service Taxi Association           402\n",
       "33                    Metro Jet Taxi A           146\n",
       "24                     Chicago Taxicab          1014"
      ]
     },
     "metadata": {},
     "output_type": "display_data"
    },
    {
     "data": {
      "text/html": [
       "<div>\n",
       "<style scoped>\n",
       "    .dataframe tbody tr th:only-of-type {\n",
       "        vertical-align: middle;\n",
       "    }\n",
       "\n",
       "    .dataframe tbody tr th {\n",
       "        vertical-align: top;\n",
       "    }\n",
       "\n",
       "    .dataframe thead th {\n",
       "        text-align: right;\n",
       "    }\n",
       "</style>\n",
       "<table border=\"1\" class=\"dataframe\">\n",
       "  <thead>\n",
       "    <tr style=\"text-align: right;\">\n",
       "      <th></th>\n",
       "      <th>dropoff_location_name</th>\n",
       "      <th>average_trips</th>\n",
       "    </tr>\n",
       "  </thead>\n",
       "  <tbody>\n",
       "    <tr>\n",
       "      <th>40</th>\n",
       "      <td>Bucktown</td>\n",
       "      <td>74.300000</td>\n",
       "    </tr>\n",
       "    <tr>\n",
       "      <th>20</th>\n",
       "      <td>Rush &amp; Division</td>\n",
       "      <td>395.533333</td>\n",
       "    </tr>\n",
       "    <tr>\n",
       "      <th>57</th>\n",
       "      <td>Hermosa</td>\n",
       "      <td>27.566667</td>\n",
       "    </tr>\n",
       "    <tr>\n",
       "      <th>30</th>\n",
       "      <td>United Center</td>\n",
       "      <td>178.900000</td>\n",
       "    </tr>\n",
       "    <tr>\n",
       "      <th>78</th>\n",
       "      <td>Gage Park</td>\n",
       "      <td>8.233333</td>\n",
       "    </tr>\n",
       "    <tr>\n",
       "      <th>4</th>\n",
       "      <td>O'Hare</td>\n",
       "      <td>2546.900000</td>\n",
       "    </tr>\n",
       "    <tr>\n",
       "      <th>65</th>\n",
       "      <td>Ashburn</td>\n",
       "      <td>16.133333</td>\n",
       "    </tr>\n",
       "    <tr>\n",
       "      <th>83</th>\n",
       "      <td>Avalon Park</td>\n",
       "      <td>6.966667</td>\n",
       "    </tr>\n",
       "    <tr>\n",
       "      <th>19</th>\n",
       "      <td>Old Town</td>\n",
       "      <td>469.566667</td>\n",
       "    </tr>\n",
       "    <tr>\n",
       "      <th>37</th>\n",
       "      <td>Bridgeport</td>\n",
       "      <td>77.100000</td>\n",
       "    </tr>\n",
       "  </tbody>\n",
       "</table>\n",
       "</div>"
      ],
      "text/plain": [
       "   dropoff_location_name  average_trips\n",
       "40              Bucktown      74.300000\n",
       "20       Rush & Division     395.533333\n",
       "57               Hermosa      27.566667\n",
       "30         United Center     178.900000\n",
       "78             Gage Park       8.233333\n",
       "4                 O'Hare    2546.900000\n",
       "65               Ashburn      16.133333\n",
       "83           Avalon Park       6.966667\n",
       "19              Old Town     469.566667\n",
       "37            Bridgeport      77.100000"
      ]
     },
     "metadata": {},
     "output_type": "display_data"
    },
    {
     "data": {
      "text/html": [
       "<div>\n",
       "<style scoped>\n",
       "    .dataframe tbody tr th:only-of-type {\n",
       "        vertical-align: middle;\n",
       "    }\n",
       "\n",
       "    .dataframe tbody tr th {\n",
       "        vertical-align: top;\n",
       "    }\n",
       "\n",
       "    .dataframe thead th {\n",
       "        text-align: right;\n",
       "    }\n",
       "</style>\n",
       "<table border=\"1\" class=\"dataframe\">\n",
       "  <thead>\n",
       "    <tr style=\"text-align: right;\">\n",
       "      <th></th>\n",
       "      <th>start_ts</th>\n",
       "      <th>weather_conditions</th>\n",
       "      <th>duration_seconds</th>\n",
       "    </tr>\n",
       "  </thead>\n",
       "  <tbody>\n",
       "    <tr>\n",
       "      <th>55</th>\n",
       "      <td>2017-11-25 14:00:00</td>\n",
       "      <td>Good</td>\n",
       "      <td>1620.0</td>\n",
       "    </tr>\n",
       "    <tr>\n",
       "      <th>155</th>\n",
       "      <td>2017-11-18 10:00:00</td>\n",
       "      <td>Bad</td>\n",
       "      <td>2055.0</td>\n",
       "    </tr>\n",
       "    <tr>\n",
       "      <th>809</th>\n",
       "      <td>2017-11-04 17:00:00</td>\n",
       "      <td>Bad</td>\n",
       "      <td>2472.0</td>\n",
       "    </tr>\n",
       "    <tr>\n",
       "      <th>607</th>\n",
       "      <td>2017-11-11 16:00:00</td>\n",
       "      <td>Good</td>\n",
       "      <td>2213.0</td>\n",
       "    </tr>\n",
       "    <tr>\n",
       "      <th>777</th>\n",
       "      <td>2017-11-11 09:00:00</td>\n",
       "      <td>Good</td>\n",
       "      <td>1494.0</td>\n",
       "    </tr>\n",
       "    <tr>\n",
       "      <th>151</th>\n",
       "      <td>2017-11-18 06:00:00</td>\n",
       "      <td>Good</td>\n",
       "      <td>1420.0</td>\n",
       "    </tr>\n",
       "    <tr>\n",
       "      <th>170</th>\n",
       "      <td>2017-11-04 12:00:00</td>\n",
       "      <td>Good</td>\n",
       "      <td>2220.0</td>\n",
       "    </tr>\n",
       "    <tr>\n",
       "      <th>618</th>\n",
       "      <td>2017-11-11 14:00:00</td>\n",
       "      <td>Good</td>\n",
       "      <td>2340.0</td>\n",
       "    </tr>\n",
       "    <tr>\n",
       "      <th>364</th>\n",
       "      <td>2017-11-11 10:00:00</td>\n",
       "      <td>Good</td>\n",
       "      <td>1709.0</td>\n",
       "    </tr>\n",
       "    <tr>\n",
       "      <th>499</th>\n",
       "      <td>2017-11-11 12:00:00</td>\n",
       "      <td>Good</td>\n",
       "      <td>2351.0</td>\n",
       "    </tr>\n",
       "  </tbody>\n",
       "</table>\n",
       "</div>"
      ],
      "text/plain": [
       "                start_ts weather_conditions  duration_seconds\n",
       "55   2017-11-25 14:00:00               Good            1620.0\n",
       "155  2017-11-18 10:00:00                Bad            2055.0\n",
       "809  2017-11-04 17:00:00                Bad            2472.0\n",
       "607  2017-11-11 16:00:00               Good            2213.0\n",
       "777  2017-11-11 09:00:00               Good            1494.0\n",
       "151  2017-11-18 06:00:00               Good            1420.0\n",
       "170  2017-11-04 12:00:00               Good            2220.0\n",
       "618  2017-11-11 14:00:00               Good            2340.0\n",
       "364  2017-11-11 10:00:00               Good            1709.0\n",
       "499  2017-11-11 12:00:00               Good            2351.0"
      ]
     },
     "metadata": {},
     "output_type": "display_data"
    }
   ],
   "source": [
    "display(rides_data.sample(10))\n",
    "display(neighborhoods_data.sample(10))\n",
    "display(loop_ohare_data.sample(10))"
   ]
  },
  {
   "cell_type": "markdown",
   "metadata": {},
   "source": [
    "Data Inspection and Observations\n",
    "\n",
    "Inspecting the `rides_data` dataset:\n",
    "\n",
    "- **Data Types:**\n",
    "  - **Object (`object`)**: `company_name`\n",
    "  - **Integer (`int64`)**: `trips_amount`\n",
    "\n",
    "- **Missing Values:**\n",
    "  - No missing values in this dataset.\n",
    "\n",
    "Inspecting the `neighborhoods_data` dataset:\n",
    "\n",
    "- **Data Types:**\n",
    "  - **Object (`object`)**: `dropoff_location_name`\n",
    "  - **Float (`float64`)**: `average_trips`\n",
    "\n",
    "- **Missing Values:**\n",
    "  - No missing values in this dataset.\n",
    "\n",
    "Inspecting the `loop_ohare_data` dataset:\n",
    "\n",
    "- **Data Types:**\n",
    "  - **Object (`object`)**: `start_ts`, `weather_conditions`\n",
    "  - **Float (`float64`)**: `duration_seconds`\n",
    "\n",
    "- **Missing Values:**\n",
    "  - No missing values in this dataset.\n",
    "\n",
    "Next Steps:\n",
    "\n",
    "1. **Convert Data Types:**\n",
    "   - Convert `start_ts` in `loop_ohare_data` to datetime format for easier analysis.\n",
    "\n",
    "2. **Check for Duplicates:**\n",
    "   - Ensure there are no duplicate entries in the datasets to maintain data integrity."
   ]
  },
  {
   "cell_type": "markdown",
   "metadata": {},
   "source": [
    "#### 3.2. <a id='toc3_2_'></a>[Fix Data](#toc0_)"
   ]
  },
  {
   "cell_type": "markdown",
   "metadata": {},
   "source": [
    "##### 3.2.1. <a id='toc3_2_1_'></a>[Data Types](#toc0_)"
   ]
  },
  {
   "cell_type": "code",
   "execution_count": 7,
   "metadata": {},
   "outputs": [
    {
     "name": "stdout",
     "output_type": "stream",
     "text": [
      "<class 'pandas.core.frame.DataFrame'>\n",
      "RangeIndex: 1068 entries, 0 to 1067\n",
      "Data columns (total 3 columns):\n",
      " #   Column              Non-Null Count  Dtype         \n",
      "---  ------              --------------  -----         \n",
      " 0   start_ts            1068 non-null   datetime64[ns]\n",
      " 1   weather_conditions  1068 non-null   object        \n",
      " 2   duration_seconds    1068 non-null   float64       \n",
      "dtypes: datetime64[ns](1), float64(1), object(1)\n",
      "memory usage: 25.2+ KB\n",
      "None\n"
     ]
    }
   ],
   "source": [
    "# Convert `start_ts` in `loop_ohare_data` to datetime format\n",
    "loop_ohare_data['start_ts'] = pd.to_datetime(loop_ohare_data['start_ts'])\n",
    "print(loop_ohare_data.info())"
   ]
  },
  {
   "cell_type": "markdown",
   "metadata": {},
   "source": [
    "##### 3.2.2. <a id='toc3_2_2_'></a>[Duplicates](#toc0_)"
   ]
  },
  {
   "cell_type": "code",
   "execution_count": 8,
   "metadata": {},
   "outputs": [
    {
     "name": "stdout",
     "output_type": "stream",
     "text": [
      "Number of duplicate rows in rides_data: 0\n",
      "Number of duplicate rows in neighborhoods_data: 0\n",
      "Number of duplicate rows in loop_ohare_data: 197\n"
     ]
    }
   ],
   "source": [
    "# Check for duplicates in `rides_data`\n",
    "print(f\"Number of duplicate rows in rides_data: {rides_data.duplicated().sum()}\")\n",
    "\n",
    "# Check for duplicates in `neighborhoods_data`\n",
    "print(f\"Number of duplicate rows in neighborhoods_data: {neighborhoods_data.duplicated().sum()}\")\n",
    "\n",
    "# Check for duplicates in `loop_ohare_data`\n",
    "print(f\"Number of duplicate rows in loop_ohare_data: {loop_ohare_data.duplicated().sum()}\")"
   ]
  },
  {
   "cell_type": "markdown",
   "metadata": {},
   "source": [
    "Why Keep Duplicates in `loop_ohare_data`:\n",
    "- The duplicates happen because the data is grouped by hour.\n",
    "- It’s normal to have multiple rides starting in the same hour with the same weather and duration.\n",
    "- Keeping these duplicates helps us understand how many trips happened during that time."
   ]
  },
  {
   "cell_type": "markdown",
   "metadata": {},
   "source": [
    "##### 3.2.3. <a id='toc3_2_3_'></a>[Enriching Data](#toc0_)"
   ]
  },
  {
   "cell_type": "code",
   "execution_count": 9,
   "metadata": {},
   "outputs": [
    {
     "data": {
      "text/html": [
       "<div>\n",
       "<style scoped>\n",
       "    .dataframe tbody tr th:only-of-type {\n",
       "        vertical-align: middle;\n",
       "    }\n",
       "\n",
       "    .dataframe tbody tr th {\n",
       "        vertical-align: top;\n",
       "    }\n",
       "\n",
       "    .dataframe thead th {\n",
       "        text-align: right;\n",
       "    }\n",
       "</style>\n",
       "<table border=\"1\" class=\"dataframe\">\n",
       "  <thead>\n",
       "    <tr style=\"text-align: right;\">\n",
       "      <th></th>\n",
       "      <th>company_name</th>\n",
       "      <th>trips_amount</th>\n",
       "      <th>market_share</th>\n",
       "    </tr>\n",
       "  </thead>\n",
       "  <tbody>\n",
       "    <tr>\n",
       "      <th>0</th>\n",
       "      <td>Flash Cab</td>\n",
       "      <td>19558</td>\n",
       "      <td>14.243578</td>\n",
       "    </tr>\n",
       "    <tr>\n",
       "      <th>1</th>\n",
       "      <td>Taxi Affiliation Services</td>\n",
       "      <td>11422</td>\n",
       "      <td>8.318343</td>\n",
       "    </tr>\n",
       "    <tr>\n",
       "      <th>2</th>\n",
       "      <td>Medallion Leasin</td>\n",
       "      <td>10367</td>\n",
       "      <td>7.550014</td>\n",
       "    </tr>\n",
       "    <tr>\n",
       "      <th>3</th>\n",
       "      <td>Yellow Cab</td>\n",
       "      <td>9888</td>\n",
       "      <td>7.201171</td>\n",
       "    </tr>\n",
       "    <tr>\n",
       "      <th>4</th>\n",
       "      <td>Taxi Affiliation Service Yellow</td>\n",
       "      <td>9299</td>\n",
       "      <td>6.772218</td>\n",
       "    </tr>\n",
       "  </tbody>\n",
       "</table>\n",
       "</div>"
      ],
      "text/plain": [
       "                      company_name  trips_amount  market_share\n",
       "0                        Flash Cab         19558     14.243578\n",
       "1        Taxi Affiliation Services         11422      8.318343\n",
       "2                 Medallion Leasin         10367      7.550014\n",
       "3                       Yellow Cab          9888      7.201171\n",
       "4  Taxi Affiliation Service Yellow          9299      6.772218"
      ]
     },
     "metadata": {},
     "output_type": "display_data"
    }
   ],
   "source": [
    "# Calculate total rides\n",
    "total_rides = rides_data['trips_amount'].sum()\n",
    "\n",
    "# Add market share column\n",
    "rides_data['market_share'] = (rides_data['trips_amount'] / total_rides) * 100\n",
    "\n",
    "# Display enriched data\n",
    "display(rides_data.head())"
   ]
  },
  {
   "cell_type": "markdown",
   "metadata": {},
   "source": [
    "### 4. <a id='toc4_'></a>[Final Data](#toc0_)"
   ]
  },
  {
   "cell_type": "code",
   "execution_count": 10,
   "metadata": {},
   "outputs": [
    {
     "name": "stdout",
     "output_type": "stream",
     "text": [
      "<class 'pandas.core.frame.DataFrame'>\n",
      "RangeIndex: 64 entries, 0 to 63\n",
      "Data columns (total 3 columns):\n",
      " #   Column        Non-Null Count  Dtype  \n",
      "---  ------        --------------  -----  \n",
      " 0   company_name  64 non-null     object \n",
      " 1   trips_amount  64 non-null     int64  \n",
      " 2   market_share  64 non-null     float64\n",
      "dtypes: float64(1), int64(1), object(1)\n",
      "memory usage: 1.6+ KB\n",
      "None\n",
      "\n",
      "<class 'pandas.core.frame.DataFrame'>\n",
      "RangeIndex: 94 entries, 0 to 93\n",
      "Data columns (total 2 columns):\n",
      " #   Column                 Non-Null Count  Dtype  \n",
      "---  ------                 --------------  -----  \n",
      " 0   dropoff_location_name  94 non-null     object \n",
      " 1   average_trips          94 non-null     float64\n",
      "dtypes: float64(1), object(1)\n",
      "memory usage: 1.6+ KB\n",
      "None\n",
      "\n",
      "<class 'pandas.core.frame.DataFrame'>\n",
      "RangeIndex: 1068 entries, 0 to 1067\n",
      "Data columns (total 3 columns):\n",
      " #   Column              Non-Null Count  Dtype         \n",
      "---  ------              --------------  -----         \n",
      " 0   start_ts            1068 non-null   datetime64[ns]\n",
      " 1   weather_conditions  1068 non-null   object        \n",
      " 2   duration_seconds    1068 non-null   float64       \n",
      "dtypes: datetime64[ns](1), float64(1), object(1)\n",
      "memory usage: 25.2+ KB\n",
      "None\n"
     ]
    }
   ],
   "source": [
    "print(rides_data.info())\n",
    "print()\n",
    "print(neighborhoods_data.info())\n",
    "print()\n",
    "print(loop_ohare_data.info())"
   ]
  },
  {
   "cell_type": "code",
   "execution_count": 11,
   "metadata": {},
   "outputs": [
    {
     "data": {
      "text/html": [
       "<div>\n",
       "<style scoped>\n",
       "    .dataframe tbody tr th:only-of-type {\n",
       "        vertical-align: middle;\n",
       "    }\n",
       "\n",
       "    .dataframe tbody tr th {\n",
       "        vertical-align: top;\n",
       "    }\n",
       "\n",
       "    .dataframe thead th {\n",
       "        text-align: right;\n",
       "    }\n",
       "</style>\n",
       "<table border=\"1\" class=\"dataframe\">\n",
       "  <thead>\n",
       "    <tr style=\"text-align: right;\">\n",
       "      <th></th>\n",
       "      <th>company_name</th>\n",
       "      <th>trips_amount</th>\n",
       "      <th>market_share</th>\n",
       "    </tr>\n",
       "  </thead>\n",
       "  <tbody>\n",
       "    <tr>\n",
       "      <th>58</th>\n",
       "      <td>5062 - 34841 Sam Mestas</td>\n",
       "      <td>8</td>\n",
       "      <td>0.005826</td>\n",
       "    </tr>\n",
       "    <tr>\n",
       "      <th>60</th>\n",
       "      <td>2733 - 74600 Benny Jona</td>\n",
       "      <td>7</td>\n",
       "      <td>0.005098</td>\n",
       "    </tr>\n",
       "    <tr>\n",
       "      <th>33</th>\n",
       "      <td>Metro Jet Taxi A</td>\n",
       "      <td>146</td>\n",
       "      <td>0.106328</td>\n",
       "    </tr>\n",
       "    <tr>\n",
       "      <th>9</th>\n",
       "      <td>Blue Ribbon Taxi Association Inc.</td>\n",
       "      <td>5953</td>\n",
       "      <td>4.335414</td>\n",
       "    </tr>\n",
       "    <tr>\n",
       "      <th>16</th>\n",
       "      <td>Blue Diamond</td>\n",
       "      <td>2070</td>\n",
       "      <td>1.507527</td>\n",
       "    </tr>\n",
       "    <tr>\n",
       "      <th>36</th>\n",
       "      <td>3591 - 63480 Chuks Cab</td>\n",
       "      <td>37</td>\n",
       "      <td>0.026946</td>\n",
       "    </tr>\n",
       "    <tr>\n",
       "      <th>1</th>\n",
       "      <td>Taxi Affiliation Services</td>\n",
       "      <td>11422</td>\n",
       "      <td>8.318343</td>\n",
       "    </tr>\n",
       "    <tr>\n",
       "      <th>5</th>\n",
       "      <td>Chicago Carriage Cab Corp</td>\n",
       "      <td>9181</td>\n",
       "      <td>6.686282</td>\n",
       "    </tr>\n",
       "    <tr>\n",
       "      <th>27</th>\n",
       "      <td>Service Taxi Association</td>\n",
       "      <td>402</td>\n",
       "      <td>0.292766</td>\n",
       "    </tr>\n",
       "    <tr>\n",
       "      <th>3</th>\n",
       "      <td>Yellow Cab</td>\n",
       "      <td>9888</td>\n",
       "      <td>7.201171</td>\n",
       "    </tr>\n",
       "  </tbody>\n",
       "</table>\n",
       "</div>"
      ],
      "text/plain": [
       "                         company_name  trips_amount  market_share\n",
       "58            5062 - 34841 Sam Mestas             8      0.005826\n",
       "60            2733 - 74600 Benny Jona             7      0.005098\n",
       "33                   Metro Jet Taxi A           146      0.106328\n",
       "9   Blue Ribbon Taxi Association Inc.          5953      4.335414\n",
       "16                       Blue Diamond          2070      1.507527\n",
       "36             3591 - 63480 Chuks Cab            37      0.026946\n",
       "1           Taxi Affiliation Services         11422      8.318343\n",
       "5           Chicago Carriage Cab Corp          9181      6.686282\n",
       "27           Service Taxi Association           402      0.292766\n",
       "3                          Yellow Cab          9888      7.201171"
      ]
     },
     "metadata": {},
     "output_type": "display_data"
    },
    {
     "data": {
      "text/html": [
       "<div>\n",
       "<style scoped>\n",
       "    .dataframe tbody tr th:only-of-type {\n",
       "        vertical-align: middle;\n",
       "    }\n",
       "\n",
       "    .dataframe tbody tr th {\n",
       "        vertical-align: top;\n",
       "    }\n",
       "\n",
       "    .dataframe thead th {\n",
       "        text-align: right;\n",
       "    }\n",
       "</style>\n",
       "<table border=\"1\" class=\"dataframe\">\n",
       "  <thead>\n",
       "    <tr style=\"text-align: right;\">\n",
       "      <th></th>\n",
       "      <th>dropoff_location_name</th>\n",
       "      <th>average_trips</th>\n",
       "    </tr>\n",
       "  </thead>\n",
       "  <tbody>\n",
       "    <tr>\n",
       "      <th>64</th>\n",
       "      <td>Oakland</td>\n",
       "      <td>16.633333</td>\n",
       "    </tr>\n",
       "    <tr>\n",
       "      <th>89</th>\n",
       "      <td>Mount Greenwood</td>\n",
       "      <td>3.137931</td>\n",
       "    </tr>\n",
       "    <tr>\n",
       "      <th>57</th>\n",
       "      <td>Hermosa</td>\n",
       "      <td>27.566667</td>\n",
       "    </tr>\n",
       "    <tr>\n",
       "      <th>37</th>\n",
       "      <td>Bridgeport</td>\n",
       "      <td>77.100000</td>\n",
       "    </tr>\n",
       "    <tr>\n",
       "      <th>81</th>\n",
       "      <td>Morgan Park</td>\n",
       "      <td>7.700000</td>\n",
       "    </tr>\n",
       "    <tr>\n",
       "      <th>28</th>\n",
       "      <td>Wicker Park</td>\n",
       "      <td>182.600000</td>\n",
       "    </tr>\n",
       "    <tr>\n",
       "      <th>78</th>\n",
       "      <td>Gage Park</td>\n",
       "      <td>8.233333</td>\n",
       "    </tr>\n",
       "    <tr>\n",
       "      <th>14</th>\n",
       "      <td>Near South Side</td>\n",
       "      <td>839.833333</td>\n",
       "    </tr>\n",
       "    <tr>\n",
       "      <th>23</th>\n",
       "      <td>Rogers Park</td>\n",
       "      <td>299.033333</td>\n",
       "    </tr>\n",
       "    <tr>\n",
       "      <th>22</th>\n",
       "      <td>Lincoln Square</td>\n",
       "      <td>356.733333</td>\n",
       "    </tr>\n",
       "  </tbody>\n",
       "</table>\n",
       "</div>"
      ],
      "text/plain": [
       "   dropoff_location_name  average_trips\n",
       "64               Oakland      16.633333\n",
       "89       Mount Greenwood       3.137931\n",
       "57               Hermosa      27.566667\n",
       "37            Bridgeport      77.100000\n",
       "81           Morgan Park       7.700000\n",
       "28           Wicker Park     182.600000\n",
       "78             Gage Park       8.233333\n",
       "14       Near South Side     839.833333\n",
       "23           Rogers Park     299.033333\n",
       "22        Lincoln Square     356.733333"
      ]
     },
     "metadata": {},
     "output_type": "display_data"
    },
    {
     "data": {
      "text/html": [
       "<div>\n",
       "<style scoped>\n",
       "    .dataframe tbody tr th:only-of-type {\n",
       "        vertical-align: middle;\n",
       "    }\n",
       "\n",
       "    .dataframe tbody tr th {\n",
       "        vertical-align: top;\n",
       "    }\n",
       "\n",
       "    .dataframe thead th {\n",
       "        text-align: right;\n",
       "    }\n",
       "</style>\n",
       "<table border=\"1\" class=\"dataframe\">\n",
       "  <thead>\n",
       "    <tr style=\"text-align: right;\">\n",
       "      <th></th>\n",
       "      <th>start_ts</th>\n",
       "      <th>weather_conditions</th>\n",
       "      <th>duration_seconds</th>\n",
       "    </tr>\n",
       "  </thead>\n",
       "  <tbody>\n",
       "    <tr>\n",
       "      <th>960</th>\n",
       "      <td>2017-11-11 10:00:00</td>\n",
       "      <td>Good</td>\n",
       "      <td>1486.0</td>\n",
       "    </tr>\n",
       "    <tr>\n",
       "      <th>333</th>\n",
       "      <td>2017-11-11 06:00:00</td>\n",
       "      <td>Good</td>\n",
       "      <td>1260.0</td>\n",
       "    </tr>\n",
       "    <tr>\n",
       "      <th>116</th>\n",
       "      <td>2017-11-11 08:00:00</td>\n",
       "      <td>Good</td>\n",
       "      <td>1260.0</td>\n",
       "    </tr>\n",
       "    <tr>\n",
       "      <th>758</th>\n",
       "      <td>2017-11-25 15:00:00</td>\n",
       "      <td>Good</td>\n",
       "      <td>2195.0</td>\n",
       "    </tr>\n",
       "    <tr>\n",
       "      <th>1050</th>\n",
       "      <td>2017-11-11 16:00:00</td>\n",
       "      <td>Good</td>\n",
       "      <td>2280.0</td>\n",
       "    </tr>\n",
       "    <tr>\n",
       "      <th>153</th>\n",
       "      <td>2017-11-04 14:00:00</td>\n",
       "      <td>Good</td>\n",
       "      <td>3480.0</td>\n",
       "    </tr>\n",
       "    <tr>\n",
       "      <th>381</th>\n",
       "      <td>2017-11-18 12:00:00</td>\n",
       "      <td>Bad</td>\n",
       "      <td>2640.0</td>\n",
       "    </tr>\n",
       "    <tr>\n",
       "      <th>563</th>\n",
       "      <td>2017-11-11 06:00:00</td>\n",
       "      <td>Good</td>\n",
       "      <td>1200.0</td>\n",
       "    </tr>\n",
       "    <tr>\n",
       "      <th>269</th>\n",
       "      <td>2017-11-25 10:00:00</td>\n",
       "      <td>Good</td>\n",
       "      <td>1676.0</td>\n",
       "    </tr>\n",
       "    <tr>\n",
       "      <th>398</th>\n",
       "      <td>2017-11-11 17:00:00</td>\n",
       "      <td>Good</td>\n",
       "      <td>2640.0</td>\n",
       "    </tr>\n",
       "  </tbody>\n",
       "</table>\n",
       "</div>"
      ],
      "text/plain": [
       "                start_ts weather_conditions  duration_seconds\n",
       "960  2017-11-11 10:00:00               Good            1486.0\n",
       "333  2017-11-11 06:00:00               Good            1260.0\n",
       "116  2017-11-11 08:00:00               Good            1260.0\n",
       "758  2017-11-25 15:00:00               Good            2195.0\n",
       "1050 2017-11-11 16:00:00               Good            2280.0\n",
       "153  2017-11-04 14:00:00               Good            3480.0\n",
       "381  2017-11-18 12:00:00                Bad            2640.0\n",
       "563  2017-11-11 06:00:00               Good            1200.0\n",
       "269  2017-11-25 10:00:00               Good            1676.0\n",
       "398  2017-11-11 17:00:00               Good            2640.0"
      ]
     },
     "metadata": {},
     "output_type": "display_data"
    }
   ],
   "source": [
    "display(rides_data.sample(10))\n",
    "display(neighborhoods_data.sample(10))\n",
    "display(loop_ohare_data.sample(10))"
   ]
  },
  {
   "cell_type": "markdown",
   "metadata": {},
   "source": [
    "### 5. <a id='toc5_'></a>[Data Analysis](#toc0_)"
   ]
  },
  {
   "cell_type": "markdown",
   "metadata": {},
   "source": [
    "#### 5.1. <a id='toc5_1_'></a>[Neighborhood Drop-offs](#toc0_)"
   ]
  },
  {
   "cell_type": "markdown",
   "metadata": {},
   "source": [
    "In this section, we look at which neighborhoods in Chicago have the most drop-offs. By focusing on the top 10 neighborhoods, we can see where passengers are most active and where ride-sharing demand is the highest.\n",
    "\n",
    "**Steps**:\n",
    "- Find the top 10 neighborhoods with the most average drop-offs.\n",
    "- Create a bar chart to show the results.\n",
    "\n",
    "**Goal**: \n",
    "To figure out which neighborhoods need more focus for ride-sharing services and understand where passengers go most often."
   ]
  },
  {
   "cell_type": "code",
   "execution_count": 12,
   "metadata": {},
   "outputs": [
    {
     "data": {
      "application/vnd.plotly.v1+json": {
       "config": {
        "plotlyServerURL": "https://plot.ly"
       },
       "data": [
        {
         "alignmentgroup": "True",
         "hovertemplate": "Neighborhood=%{x}<br>Average Drop-offs=%{text}<extra></extra>",
         "legendgroup": "",
         "marker": {
          "color": "#F8766D",
          "pattern": {
           "shape": ""
          }
         },
         "name": "",
         "offsetgroup": "",
         "orientation": "v",
         "showlegend": false,
         "text": [
          10727.466666666667,
          9523.666666666666,
          6664.666666666667,
          5163.666666666667,
          2546.9,
          2420.9666666666667,
          2068.5333333333333,
          1510,
          1364.2333333333331,
          1259.7666666666669
         ],
         "textposition": "outside",
         "texttemplate": "%{text:.0f}",
         "type": "bar",
         "x": [
          "Loop",
          "River North",
          "Streeterville",
          "West Loop",
          "O'Hare",
          "Lake View",
          "Grant Park",
          "Museum Campus",
          "Gold Coast",
          "Sheffield & DePaul"
         ],
         "xaxis": "x",
         "y": [
          10727.466666666667,
          9523.666666666666,
          6664.666666666667,
          5163.666666666667,
          2546.9,
          2420.9666666666667,
          2068.5333333333333,
          1510,
          1364.2333333333331,
          1259.7666666666669
         ],
         "yaxis": "y"
        }
       ],
       "layout": {
        "barmode": "relative",
        "legend": {
         "tracegroupgap": 0
        },
        "template": {
         "data": {
          "bar": [
           {
            "error_x": {
             "color": "rgb(51,51,51)"
            },
            "error_y": {
             "color": "rgb(51,51,51)"
            },
            "marker": {
             "line": {
              "color": "rgb(237,237,237)",
              "width": 0.5
             },
             "pattern": {
              "fillmode": "overlay",
              "size": 10,
              "solidity": 0.2
             }
            },
            "type": "bar"
           }
          ],
          "barpolar": [
           {
            "marker": {
             "line": {
              "color": "rgb(237,237,237)",
              "width": 0.5
             },
             "pattern": {
              "fillmode": "overlay",
              "size": 10,
              "solidity": 0.2
             }
            },
            "type": "barpolar"
           }
          ],
          "carpet": [
           {
            "aaxis": {
             "endlinecolor": "rgb(51,51,51)",
             "gridcolor": "white",
             "linecolor": "white",
             "minorgridcolor": "white",
             "startlinecolor": "rgb(51,51,51)"
            },
            "baxis": {
             "endlinecolor": "rgb(51,51,51)",
             "gridcolor": "white",
             "linecolor": "white",
             "minorgridcolor": "white",
             "startlinecolor": "rgb(51,51,51)"
            },
            "type": "carpet"
           }
          ],
          "choropleth": [
           {
            "colorbar": {
             "outlinewidth": 0,
             "tickcolor": "rgb(237,237,237)",
             "ticklen": 6,
             "ticks": "inside"
            },
            "type": "choropleth"
           }
          ],
          "contour": [
           {
            "colorbar": {
             "outlinewidth": 0,
             "tickcolor": "rgb(237,237,237)",
             "ticklen": 6,
             "ticks": "inside"
            },
            "colorscale": [
             [
              0,
              "rgb(20,44,66)"
             ],
             [
              1,
              "rgb(90,179,244)"
             ]
            ],
            "type": "contour"
           }
          ],
          "contourcarpet": [
           {
            "colorbar": {
             "outlinewidth": 0,
             "tickcolor": "rgb(237,237,237)",
             "ticklen": 6,
             "ticks": "inside"
            },
            "type": "contourcarpet"
           }
          ],
          "heatmap": [
           {
            "colorbar": {
             "outlinewidth": 0,
             "tickcolor": "rgb(237,237,237)",
             "ticklen": 6,
             "ticks": "inside"
            },
            "colorscale": [
             [
              0,
              "rgb(20,44,66)"
             ],
             [
              1,
              "rgb(90,179,244)"
             ]
            ],
            "type": "heatmap"
           }
          ],
          "heatmapgl": [
           {
            "colorbar": {
             "outlinewidth": 0,
             "tickcolor": "rgb(237,237,237)",
             "ticklen": 6,
             "ticks": "inside"
            },
            "colorscale": [
             [
              0,
              "rgb(20,44,66)"
             ],
             [
              1,
              "rgb(90,179,244)"
             ]
            ],
            "type": "heatmapgl"
           }
          ],
          "histogram": [
           {
            "marker": {
             "pattern": {
              "fillmode": "overlay",
              "size": 10,
              "solidity": 0.2
             }
            },
            "type": "histogram"
           }
          ],
          "histogram2d": [
           {
            "colorbar": {
             "outlinewidth": 0,
             "tickcolor": "rgb(237,237,237)",
             "ticklen": 6,
             "ticks": "inside"
            },
            "colorscale": [
             [
              0,
              "rgb(20,44,66)"
             ],
             [
              1,
              "rgb(90,179,244)"
             ]
            ],
            "type": "histogram2d"
           }
          ],
          "histogram2dcontour": [
           {
            "colorbar": {
             "outlinewidth": 0,
             "tickcolor": "rgb(237,237,237)",
             "ticklen": 6,
             "ticks": "inside"
            },
            "colorscale": [
             [
              0,
              "rgb(20,44,66)"
             ],
             [
              1,
              "rgb(90,179,244)"
             ]
            ],
            "type": "histogram2dcontour"
           }
          ],
          "mesh3d": [
           {
            "colorbar": {
             "outlinewidth": 0,
             "tickcolor": "rgb(237,237,237)",
             "ticklen": 6,
             "ticks": "inside"
            },
            "type": "mesh3d"
           }
          ],
          "parcoords": [
           {
            "line": {
             "colorbar": {
              "outlinewidth": 0,
              "tickcolor": "rgb(237,237,237)",
              "ticklen": 6,
              "ticks": "inside"
             }
            },
            "type": "parcoords"
           }
          ],
          "pie": [
           {
            "automargin": true,
            "type": "pie"
           }
          ],
          "scatter": [
           {
            "fillpattern": {
             "fillmode": "overlay",
             "size": 10,
             "solidity": 0.2
            },
            "type": "scatter"
           }
          ],
          "scatter3d": [
           {
            "line": {
             "colorbar": {
              "outlinewidth": 0,
              "tickcolor": "rgb(237,237,237)",
              "ticklen": 6,
              "ticks": "inside"
             }
            },
            "marker": {
             "colorbar": {
              "outlinewidth": 0,
              "tickcolor": "rgb(237,237,237)",
              "ticklen": 6,
              "ticks": "inside"
             }
            },
            "type": "scatter3d"
           }
          ],
          "scattercarpet": [
           {
            "marker": {
             "colorbar": {
              "outlinewidth": 0,
              "tickcolor": "rgb(237,237,237)",
              "ticklen": 6,
              "ticks": "inside"
             }
            },
            "type": "scattercarpet"
           }
          ],
          "scattergeo": [
           {
            "marker": {
             "colorbar": {
              "outlinewidth": 0,
              "tickcolor": "rgb(237,237,237)",
              "ticklen": 6,
              "ticks": "inside"
             }
            },
            "type": "scattergeo"
           }
          ],
          "scattergl": [
           {
            "marker": {
             "colorbar": {
              "outlinewidth": 0,
              "tickcolor": "rgb(237,237,237)",
              "ticklen": 6,
              "ticks": "inside"
             }
            },
            "type": "scattergl"
           }
          ],
          "scattermapbox": [
           {
            "marker": {
             "colorbar": {
              "outlinewidth": 0,
              "tickcolor": "rgb(237,237,237)",
              "ticklen": 6,
              "ticks": "inside"
             }
            },
            "type": "scattermapbox"
           }
          ],
          "scatterpolar": [
           {
            "marker": {
             "colorbar": {
              "outlinewidth": 0,
              "tickcolor": "rgb(237,237,237)",
              "ticklen": 6,
              "ticks": "inside"
             }
            },
            "type": "scatterpolar"
           }
          ],
          "scatterpolargl": [
           {
            "marker": {
             "colorbar": {
              "outlinewidth": 0,
              "tickcolor": "rgb(237,237,237)",
              "ticklen": 6,
              "ticks": "inside"
             }
            },
            "type": "scatterpolargl"
           }
          ],
          "scatterternary": [
           {
            "marker": {
             "colorbar": {
              "outlinewidth": 0,
              "tickcolor": "rgb(237,237,237)",
              "ticklen": 6,
              "ticks": "inside"
             }
            },
            "type": "scatterternary"
           }
          ],
          "surface": [
           {
            "colorbar": {
             "outlinewidth": 0,
             "tickcolor": "rgb(237,237,237)",
             "ticklen": 6,
             "ticks": "inside"
            },
            "colorscale": [
             [
              0,
              "rgb(20,44,66)"
             ],
             [
              1,
              "rgb(90,179,244)"
             ]
            ],
            "type": "surface"
           }
          ],
          "table": [
           {
            "cells": {
             "fill": {
              "color": "rgb(237,237,237)"
             },
             "line": {
              "color": "white"
             }
            },
            "header": {
             "fill": {
              "color": "rgb(217,217,217)"
             },
             "line": {
              "color": "white"
             }
            },
            "type": "table"
           }
          ]
         },
         "layout": {
          "annotationdefaults": {
           "arrowhead": 0,
           "arrowwidth": 1
          },
          "autotypenumbers": "strict",
          "coloraxis": {
           "colorbar": {
            "outlinewidth": 0,
            "tickcolor": "rgb(237,237,237)",
            "ticklen": 6,
            "ticks": "inside"
           }
          },
          "colorscale": {
           "sequential": [
            [
             0,
             "rgb(20,44,66)"
            ],
            [
             1,
             "rgb(90,179,244)"
            ]
           ],
           "sequentialminus": [
            [
             0,
             "rgb(20,44,66)"
            ],
            [
             1,
             "rgb(90,179,244)"
            ]
           ]
          },
          "colorway": [
           "#F8766D",
           "#A3A500",
           "#00BF7D",
           "#00B0F6",
           "#E76BF3"
          ],
          "font": {
           "color": "rgb(51,51,51)"
          },
          "geo": {
           "bgcolor": "white",
           "lakecolor": "white",
           "landcolor": "rgb(237,237,237)",
           "showlakes": true,
           "showland": true,
           "subunitcolor": "white"
          },
          "hoverlabel": {
           "align": "left"
          },
          "hovermode": "closest",
          "paper_bgcolor": "white",
          "plot_bgcolor": "rgb(237,237,237)",
          "polar": {
           "angularaxis": {
            "gridcolor": "white",
            "linecolor": "white",
            "showgrid": true,
            "tickcolor": "rgb(51,51,51)",
            "ticks": "outside"
           },
           "bgcolor": "rgb(237,237,237)",
           "radialaxis": {
            "gridcolor": "white",
            "linecolor": "white",
            "showgrid": true,
            "tickcolor": "rgb(51,51,51)",
            "ticks": "outside"
           }
          },
          "scene": {
           "xaxis": {
            "backgroundcolor": "rgb(237,237,237)",
            "gridcolor": "white",
            "gridwidth": 2,
            "linecolor": "white",
            "showbackground": true,
            "showgrid": true,
            "tickcolor": "rgb(51,51,51)",
            "ticks": "outside",
            "zerolinecolor": "white"
           },
           "yaxis": {
            "backgroundcolor": "rgb(237,237,237)",
            "gridcolor": "white",
            "gridwidth": 2,
            "linecolor": "white",
            "showbackground": true,
            "showgrid": true,
            "tickcolor": "rgb(51,51,51)",
            "ticks": "outside",
            "zerolinecolor": "white"
           },
           "zaxis": {
            "backgroundcolor": "rgb(237,237,237)",
            "gridcolor": "white",
            "gridwidth": 2,
            "linecolor": "white",
            "showbackground": true,
            "showgrid": true,
            "tickcolor": "rgb(51,51,51)",
            "ticks": "outside",
            "zerolinecolor": "white"
           }
          },
          "shapedefaults": {
           "fillcolor": "black",
           "line": {
            "width": 0
           },
           "opacity": 0.3
          },
          "ternary": {
           "aaxis": {
            "gridcolor": "white",
            "linecolor": "white",
            "showgrid": true,
            "tickcolor": "rgb(51,51,51)",
            "ticks": "outside"
           },
           "baxis": {
            "gridcolor": "white",
            "linecolor": "white",
            "showgrid": true,
            "tickcolor": "rgb(51,51,51)",
            "ticks": "outside"
           },
           "bgcolor": "rgb(237,237,237)",
           "caxis": {
            "gridcolor": "white",
            "linecolor": "white",
            "showgrid": true,
            "tickcolor": "rgb(51,51,51)",
            "ticks": "outside"
           }
          },
          "xaxis": {
           "automargin": true,
           "gridcolor": "white",
           "linecolor": "white",
           "showgrid": true,
           "tickcolor": "rgb(51,51,51)",
           "ticks": "outside",
           "title": {
            "standoff": 15
           },
           "zerolinecolor": "white"
          },
          "yaxis": {
           "automargin": true,
           "gridcolor": "white",
           "linecolor": "white",
           "showgrid": true,
           "tickcolor": "rgb(51,51,51)",
           "ticks": "outside",
           "title": {
            "standoff": 15
           },
           "zerolinecolor": "white"
          }
         }
        },
        "title": {
         "text": "Top 10 Neighborhoods by Drop-offs"
        },
        "xaxis": {
         "anchor": "y",
         "domain": [
          0,
          1
         ],
         "tickangle": -45,
         "title": {
          "text": "Neighborhood"
         }
        },
        "yaxis": {
         "anchor": "x",
         "automargin": true,
         "domain": [
          0,
          1
         ],
         "range": [
          0,
          12872.960000000001
         ],
         "title": {
          "text": "Average Drop-offs"
         }
        }
       }
      }
     },
     "metadata": {},
     "output_type": "display_data"
    }
   ],
   "source": [
    "top_10_neighborhoods = neighborhoods_data.sort_values(by='average_trips', ascending=False).head(10)\n",
    "max_value = top_10_neighborhoods['average_trips'].max()\n",
    "\n",
    "# Create a bar chart\n",
    "fig = px.bar(top_10_neighborhoods,\n",
    "             x='dropoff_location_name',\n",
    "             y='average_trips',\n",
    "             title=\"Top 10 Neighborhoods by Drop-offs\",\n",
    "             labels={'dropoff_location_name': 'Neighborhood', 'average_trips': 'Average Drop-offs'},\n",
    "             text='average_trips',\n",
    "             template='ggplot2')\n",
    "\n",
    "# Format text to show integer values instead of long decimals\n",
    "fig.update_traces(texttemplate='%{text:.0f}', textposition='outside')\n",
    "\n",
    "fig.update_layout(yaxis=dict(title='Average Drop-offs',\n",
    "                             automargin=True,\n",
    "                             range=[0, max_value * 1.2]),\n",
    "                             xaxis_tickangle=-45)\n",
    "\n",
    "# Display the plot\n",
    "fig.show()"
   ]
  },
  {
   "cell_type": "markdown",
   "metadata": {},
   "source": [
    "**What We Found**\n",
    "\n",
    "The drop-offs are mostly concentrated in a few busy neighborhoods:\n",
    "1. **Loop**, **River North**, and **Streeterville** have the most drop-offs. These areas likely include business districts, popular attractions, or high-density residential zones.\n",
    "2. Other neighborhoods like **West Loop**, **O'Hare**, and **Lake View** are also popular but have fewer drop-offs compared to the top three.\n",
    "3. Places like **Grant Park** and **Gold Coast** have moderate demand but are still important.\n",
    "\n",
    "**Conclusion**\n",
    "\n",
    "The **Loop** has the most drop-offs, making it a clear focus area for ride-sharing services. To improve services:\n",
    "- Add more cars in the busiest neighborhoods, especially during peak hours.\n",
    "- Look into when rides are most frequent in these areas to adjust availability."
   ]
  },
  {
   "cell_type": "markdown",
   "metadata": {},
   "source": [
    "#### 5.2. <a id='toc5_2_'></a>[Taxi Companies and Number of Rides](#toc0_)\n",
    "\n",
    "In this section, we analyze which taxi companies had the highest number of rides. By focusing on the top-performing companies, we can identify key players in the market and understand ride distribution among them.\n",
    "\n",
    "**Steps**:\n",
    "- Calculate the total number of rides for each taxi company.\n",
    "- Create a bar chart to visualize the top-performing companies.\n",
    "\n",
    "**Goal**: \n",
    "To identify the companies with the most rides and understand their market dominance. This will help Zuber position itself in the competitive landscape.\n"
   ]
  },
  {
   "cell_type": "code",
   "execution_count": 13,
   "metadata": {},
   "outputs": [
    {
     "data": {
      "application/vnd.plotly.v1+json": {
       "config": {
        "plotlyServerURL": "https://plot.ly"
       },
       "data": [
        {
         "alignmentgroup": "True",
         "hovertemplate": "Taxi Company=%{x}<br>Number of Rides=%{text}<extra></extra>",
         "legendgroup": "",
         "marker": {
          "color": "#F8766D",
          "pattern": {
           "shape": ""
          }
         },
         "name": "",
         "offsetgroup": "",
         "orientation": "v",
         "showlegend": false,
         "text": [
          19558,
          11422,
          10367,
          9888,
          9299,
          9181,
          8448,
          7701,
          7455,
          5953
         ],
         "textposition": "outside",
         "texttemplate": "%{text:.0f}",
         "type": "bar",
         "x": [
          "Flash Cab",
          "Taxi Affiliation Services",
          "Medallion Leasin",
          "Yellow Cab",
          "Taxi Affiliation Service Yellow",
          "Chicago Carriage Cab Corp",
          "City Service",
          "Sun Taxi",
          "Star North Management LLC",
          "Blue Ribbon Taxi Association Inc."
         ],
         "xaxis": "x",
         "y": [
          19558,
          11422,
          10367,
          9888,
          9299,
          9181,
          8448,
          7701,
          7455,
          5953
         ],
         "yaxis": "y"
        }
       ],
       "layout": {
        "barmode": "relative",
        "legend": {
         "tracegroupgap": 0
        },
        "template": {
         "data": {
          "bar": [
           {
            "error_x": {
             "color": "rgb(51,51,51)"
            },
            "error_y": {
             "color": "rgb(51,51,51)"
            },
            "marker": {
             "line": {
              "color": "rgb(237,237,237)",
              "width": 0.5
             },
             "pattern": {
              "fillmode": "overlay",
              "size": 10,
              "solidity": 0.2
             }
            },
            "type": "bar"
           }
          ],
          "barpolar": [
           {
            "marker": {
             "line": {
              "color": "rgb(237,237,237)",
              "width": 0.5
             },
             "pattern": {
              "fillmode": "overlay",
              "size": 10,
              "solidity": 0.2
             }
            },
            "type": "barpolar"
           }
          ],
          "carpet": [
           {
            "aaxis": {
             "endlinecolor": "rgb(51,51,51)",
             "gridcolor": "white",
             "linecolor": "white",
             "minorgridcolor": "white",
             "startlinecolor": "rgb(51,51,51)"
            },
            "baxis": {
             "endlinecolor": "rgb(51,51,51)",
             "gridcolor": "white",
             "linecolor": "white",
             "minorgridcolor": "white",
             "startlinecolor": "rgb(51,51,51)"
            },
            "type": "carpet"
           }
          ],
          "choropleth": [
           {
            "colorbar": {
             "outlinewidth": 0,
             "tickcolor": "rgb(237,237,237)",
             "ticklen": 6,
             "ticks": "inside"
            },
            "type": "choropleth"
           }
          ],
          "contour": [
           {
            "colorbar": {
             "outlinewidth": 0,
             "tickcolor": "rgb(237,237,237)",
             "ticklen": 6,
             "ticks": "inside"
            },
            "colorscale": [
             [
              0,
              "rgb(20,44,66)"
             ],
             [
              1,
              "rgb(90,179,244)"
             ]
            ],
            "type": "contour"
           }
          ],
          "contourcarpet": [
           {
            "colorbar": {
             "outlinewidth": 0,
             "tickcolor": "rgb(237,237,237)",
             "ticklen": 6,
             "ticks": "inside"
            },
            "type": "contourcarpet"
           }
          ],
          "heatmap": [
           {
            "colorbar": {
             "outlinewidth": 0,
             "tickcolor": "rgb(237,237,237)",
             "ticklen": 6,
             "ticks": "inside"
            },
            "colorscale": [
             [
              0,
              "rgb(20,44,66)"
             ],
             [
              1,
              "rgb(90,179,244)"
             ]
            ],
            "type": "heatmap"
           }
          ],
          "heatmapgl": [
           {
            "colorbar": {
             "outlinewidth": 0,
             "tickcolor": "rgb(237,237,237)",
             "ticklen": 6,
             "ticks": "inside"
            },
            "colorscale": [
             [
              0,
              "rgb(20,44,66)"
             ],
             [
              1,
              "rgb(90,179,244)"
             ]
            ],
            "type": "heatmapgl"
           }
          ],
          "histogram": [
           {
            "marker": {
             "pattern": {
              "fillmode": "overlay",
              "size": 10,
              "solidity": 0.2
             }
            },
            "type": "histogram"
           }
          ],
          "histogram2d": [
           {
            "colorbar": {
             "outlinewidth": 0,
             "tickcolor": "rgb(237,237,237)",
             "ticklen": 6,
             "ticks": "inside"
            },
            "colorscale": [
             [
              0,
              "rgb(20,44,66)"
             ],
             [
              1,
              "rgb(90,179,244)"
             ]
            ],
            "type": "histogram2d"
           }
          ],
          "histogram2dcontour": [
           {
            "colorbar": {
             "outlinewidth": 0,
             "tickcolor": "rgb(237,237,237)",
             "ticklen": 6,
             "ticks": "inside"
            },
            "colorscale": [
             [
              0,
              "rgb(20,44,66)"
             ],
             [
              1,
              "rgb(90,179,244)"
             ]
            ],
            "type": "histogram2dcontour"
           }
          ],
          "mesh3d": [
           {
            "colorbar": {
             "outlinewidth": 0,
             "tickcolor": "rgb(237,237,237)",
             "ticklen": 6,
             "ticks": "inside"
            },
            "type": "mesh3d"
           }
          ],
          "parcoords": [
           {
            "line": {
             "colorbar": {
              "outlinewidth": 0,
              "tickcolor": "rgb(237,237,237)",
              "ticklen": 6,
              "ticks": "inside"
             }
            },
            "type": "parcoords"
           }
          ],
          "pie": [
           {
            "automargin": true,
            "type": "pie"
           }
          ],
          "scatter": [
           {
            "fillpattern": {
             "fillmode": "overlay",
             "size": 10,
             "solidity": 0.2
            },
            "type": "scatter"
           }
          ],
          "scatter3d": [
           {
            "line": {
             "colorbar": {
              "outlinewidth": 0,
              "tickcolor": "rgb(237,237,237)",
              "ticklen": 6,
              "ticks": "inside"
             }
            },
            "marker": {
             "colorbar": {
              "outlinewidth": 0,
              "tickcolor": "rgb(237,237,237)",
              "ticklen": 6,
              "ticks": "inside"
             }
            },
            "type": "scatter3d"
           }
          ],
          "scattercarpet": [
           {
            "marker": {
             "colorbar": {
              "outlinewidth": 0,
              "tickcolor": "rgb(237,237,237)",
              "ticklen": 6,
              "ticks": "inside"
             }
            },
            "type": "scattercarpet"
           }
          ],
          "scattergeo": [
           {
            "marker": {
             "colorbar": {
              "outlinewidth": 0,
              "tickcolor": "rgb(237,237,237)",
              "ticklen": 6,
              "ticks": "inside"
             }
            },
            "type": "scattergeo"
           }
          ],
          "scattergl": [
           {
            "marker": {
             "colorbar": {
              "outlinewidth": 0,
              "tickcolor": "rgb(237,237,237)",
              "ticklen": 6,
              "ticks": "inside"
             }
            },
            "type": "scattergl"
           }
          ],
          "scattermapbox": [
           {
            "marker": {
             "colorbar": {
              "outlinewidth": 0,
              "tickcolor": "rgb(237,237,237)",
              "ticklen": 6,
              "ticks": "inside"
             }
            },
            "type": "scattermapbox"
           }
          ],
          "scatterpolar": [
           {
            "marker": {
             "colorbar": {
              "outlinewidth": 0,
              "tickcolor": "rgb(237,237,237)",
              "ticklen": 6,
              "ticks": "inside"
             }
            },
            "type": "scatterpolar"
           }
          ],
          "scatterpolargl": [
           {
            "marker": {
             "colorbar": {
              "outlinewidth": 0,
              "tickcolor": "rgb(237,237,237)",
              "ticklen": 6,
              "ticks": "inside"
             }
            },
            "type": "scatterpolargl"
           }
          ],
          "scatterternary": [
           {
            "marker": {
             "colorbar": {
              "outlinewidth": 0,
              "tickcolor": "rgb(237,237,237)",
              "ticklen": 6,
              "ticks": "inside"
             }
            },
            "type": "scatterternary"
           }
          ],
          "surface": [
           {
            "colorbar": {
             "outlinewidth": 0,
             "tickcolor": "rgb(237,237,237)",
             "ticklen": 6,
             "ticks": "inside"
            },
            "colorscale": [
             [
              0,
              "rgb(20,44,66)"
             ],
             [
              1,
              "rgb(90,179,244)"
             ]
            ],
            "type": "surface"
           }
          ],
          "table": [
           {
            "cells": {
             "fill": {
              "color": "rgb(237,237,237)"
             },
             "line": {
              "color": "white"
             }
            },
            "header": {
             "fill": {
              "color": "rgb(217,217,217)"
             },
             "line": {
              "color": "white"
             }
            },
            "type": "table"
           }
          ]
         },
         "layout": {
          "annotationdefaults": {
           "arrowhead": 0,
           "arrowwidth": 1
          },
          "autotypenumbers": "strict",
          "coloraxis": {
           "colorbar": {
            "outlinewidth": 0,
            "tickcolor": "rgb(237,237,237)",
            "ticklen": 6,
            "ticks": "inside"
           }
          },
          "colorscale": {
           "sequential": [
            [
             0,
             "rgb(20,44,66)"
            ],
            [
             1,
             "rgb(90,179,244)"
            ]
           ],
           "sequentialminus": [
            [
             0,
             "rgb(20,44,66)"
            ],
            [
             1,
             "rgb(90,179,244)"
            ]
           ]
          },
          "colorway": [
           "#F8766D",
           "#A3A500",
           "#00BF7D",
           "#00B0F6",
           "#E76BF3"
          ],
          "font": {
           "color": "rgb(51,51,51)"
          },
          "geo": {
           "bgcolor": "white",
           "lakecolor": "white",
           "landcolor": "rgb(237,237,237)",
           "showlakes": true,
           "showland": true,
           "subunitcolor": "white"
          },
          "hoverlabel": {
           "align": "left"
          },
          "hovermode": "closest",
          "paper_bgcolor": "white",
          "plot_bgcolor": "rgb(237,237,237)",
          "polar": {
           "angularaxis": {
            "gridcolor": "white",
            "linecolor": "white",
            "showgrid": true,
            "tickcolor": "rgb(51,51,51)",
            "ticks": "outside"
           },
           "bgcolor": "rgb(237,237,237)",
           "radialaxis": {
            "gridcolor": "white",
            "linecolor": "white",
            "showgrid": true,
            "tickcolor": "rgb(51,51,51)",
            "ticks": "outside"
           }
          },
          "scene": {
           "xaxis": {
            "backgroundcolor": "rgb(237,237,237)",
            "gridcolor": "white",
            "gridwidth": 2,
            "linecolor": "white",
            "showbackground": true,
            "showgrid": true,
            "tickcolor": "rgb(51,51,51)",
            "ticks": "outside",
            "zerolinecolor": "white"
           },
           "yaxis": {
            "backgroundcolor": "rgb(237,237,237)",
            "gridcolor": "white",
            "gridwidth": 2,
            "linecolor": "white",
            "showbackground": true,
            "showgrid": true,
            "tickcolor": "rgb(51,51,51)",
            "ticks": "outside",
            "zerolinecolor": "white"
           },
           "zaxis": {
            "backgroundcolor": "rgb(237,237,237)",
            "gridcolor": "white",
            "gridwidth": 2,
            "linecolor": "white",
            "showbackground": true,
            "showgrid": true,
            "tickcolor": "rgb(51,51,51)",
            "ticks": "outside",
            "zerolinecolor": "white"
           }
          },
          "shapedefaults": {
           "fillcolor": "black",
           "line": {
            "width": 0
           },
           "opacity": 0.3
          },
          "ternary": {
           "aaxis": {
            "gridcolor": "white",
            "linecolor": "white",
            "showgrid": true,
            "tickcolor": "rgb(51,51,51)",
            "ticks": "outside"
           },
           "baxis": {
            "gridcolor": "white",
            "linecolor": "white",
            "showgrid": true,
            "tickcolor": "rgb(51,51,51)",
            "ticks": "outside"
           },
           "bgcolor": "rgb(237,237,237)",
           "caxis": {
            "gridcolor": "white",
            "linecolor": "white",
            "showgrid": true,
            "tickcolor": "rgb(51,51,51)",
            "ticks": "outside"
           }
          },
          "xaxis": {
           "automargin": true,
           "gridcolor": "white",
           "linecolor": "white",
           "showgrid": true,
           "tickcolor": "rgb(51,51,51)",
           "ticks": "outside",
           "title": {
            "standoff": 15
           },
           "zerolinecolor": "white"
          },
          "yaxis": {
           "automargin": true,
           "gridcolor": "white",
           "linecolor": "white",
           "showgrid": true,
           "tickcolor": "rgb(51,51,51)",
           "ticks": "outside",
           "title": {
            "standoff": 15
           },
           "zerolinecolor": "white"
          }
         }
        },
        "title": {
         "text": "Top 10 Taxi Companies by Number of Rides"
        },
        "xaxis": {
         "anchor": "y",
         "domain": [
          0,
          1
         ],
         "tickangle": -45,
         "title": {
          "text": "Taxi Company"
         }
        },
        "yaxis": {
         "anchor": "x",
         "automargin": true,
         "domain": [
          0,
          1
         ],
         "range": [
          0,
          23469.6
         ],
         "title": {
          "text": "Number of Rides"
         }
        }
       }
      }
     },
     "metadata": {},
     "output_type": "display_data"
    }
   ],
   "source": [
    "# Sort and select the top 10 companies by number of rides\n",
    "top_companies = rides_data.sort_values(by='trips_amount', ascending=False).head(10)\n",
    "max_rides = top_companies['trips_amount'].max()\n",
    "\n",
    "# Create a bar chart\n",
    "fig = px.bar(top_companies,\n",
    "             x='company_name',\n",
    "             y='trips_amount',\n",
    "             title=\"Top 10 Taxi Companies by Number of Rides\",\n",
    "             labels={'company_name': 'Taxi Company', 'trips_amount': 'Number of Rides'},\n",
    "             text='trips_amount',\n",
    "             template='ggplot2')\n",
    "\n",
    "fig.update_traces(texttemplate='%{text:.0f}', textposition='outside')\n",
    "\n",
    "fig.update_layout(yaxis=dict(title='Number of Rides',\n",
    "                             automargin=True,\n",
    "                             range=[0, max_rides * 1.2]),\n",
    "                             xaxis_tickangle=-45)\n",
    "\n",
    "# Show the plot\n",
    "fig.show()"
   ]
  },
  {
   "cell_type": "markdown",
   "metadata": {},
   "source": [
    "**What We Found**\n",
    "\n",
    "1. **Flash Cab** is the most popular taxi company, with the highest number of rides. This shows it has a strong presence in the market.\n",
    "2. Companies like **Taxi Affiliation Services**, **Medallion Leasing**, and **Yellow Cab** are also big players with many rides.\n",
    "3. Some companies, like **City Service** and **Sun Taxi**, have a fair amount of rides but are less dominant than the top ones.\n",
    "4. Smaller companies, like **Blue Ribbon Taxi Association Inc.**, are in the top 10 but have far fewer rides compared to the leaders.\n",
    "\n",
    "**Conclusion**\n",
    "\n",
    "- The Chicago taxi market is led by a few big companies, like **Flash Cab** and **Taxi Affiliation Services**, that get most of the rides.\n",
    "- For **Zuber**, being a ride-sharing service:\n",
    "  - Learn from what the top companies do well, like how they price rides and attract customers.\n",
    "  - Compete with smaller taxi companies by offering faster pickups, better service, or cheaper rides.\n",
    "  - Focus on busy neighborhoods and times where demand is high to attract more customers.\n",
    "\n",
    "This analysis helps Zuber find ways to compete with taxis and grow in the Chicago market."
   ]
  },
  {
   "cell_type": "markdown",
   "metadata": {},
   "source": [
    "### 6. <a id='toc6_'></a>[Testing Hypotheses](#toc0_)"
   ]
  },
  {
   "cell_type": "markdown",
   "metadata": {},
   "source": [
    "**Hypothesis**:  \n",
    "*\"The average duration of rides from the Loop to O'Hare International Airport changes on rainy Saturdays.\"*\n",
    "\n",
    "\n",
    "\n",
    "**Formulating the Hypotheses:**\n",
    "\n",
    "- **Null Hypothesis (H₀)**: The average duration of rides on rainy Saturdays is the same as the average duration on non-rainy Saturdays.\n",
    "  \n",
    "- **Alternative Hypothesis (H₁)**: The average duration of rides on rainy Saturdays is different from the average duration on non-rainy Saturdays.\n",
    "\n",
    "**Significance Level (α)**:  \n",
    "We’ll use α = 0.05, meaning there’s a 5% chance of rejecting the null hypothesis if it’s actually true.\n",
    "\n",
    "**Why the t-test?**\n",
    "\n",
    "We are comparing the means of two independent samples: ride durations on rainy Saturdays vs. non-rainy Saturdays.  \n",
    "The **t-test** is appropriate for this because:\n",
    "1. We’re testing the difference between two means.\n",
    "2. It accounts for small sample sizes and assumes data is normally distributed (which we can check)."
   ]
  },
  {
   "cell_type": "code",
   "execution_count": 14,
   "metadata": {},
   "outputs": [
    {
     "name": "stdout",
     "output_type": "stream",
     "text": [
      "T-statistic: 7.186034288068629\n",
      "P-value: 6.738994326108734e-12\n",
      "We reject the null hypothesis: The average ride duration changes on rainy Saturdays.\n"
     ]
    }
   ],
   "source": [
    "# Convert 'start_ts' to datetime\n",
    "loop_ohare_data['start_ts'] = pd.to_datetime(loop_ohare_data['start_ts'])\n",
    "\n",
    "# Filter data for Saturdays\n",
    "loop_ohare_data['day_of_week'] = loop_ohare_data['start_ts'].dt.dayofweek  # Monday=0, Saturday=5\n",
    "saturdays_data = loop_ohare_data[loop_ohare_data['day_of_week'] == 5]\n",
    "\n",
    "# Separate data into rainy and non-rainy Saturdays\n",
    "rainy_saturdays = saturdays_data[saturdays_data['weather_conditions'] == 'Bad']['duration_seconds']\n",
    "non_rainy_saturdays = saturdays_data[saturdays_data['weather_conditions'] == 'Good']['duration_seconds']\n",
    "\n",
    "# Perform a t-test\n",
    "t_stat, p_value = st.ttest_ind(rainy_saturdays, non_rainy_saturdays, equal_var=False)\n",
    "\n",
    "# Output results\n",
    "print(f\"T-statistic: {t_stat}\")\n",
    "print(f\"P-value: {p_value}\")\n",
    "\n",
    "# Interpret results\n",
    "alpha = 0.05\n",
    "if p_value < alpha:\n",
    "    print(\"We reject the null hypothesis: The average ride duration changes on rainy Saturdays.\")\n",
    "else:\n",
    "    print(\"We fail to reject the null hypothesis: No significant difference in average ride duration.\")"
   ]
  },
  {
   "cell_type": "code",
   "execution_count": 15,
   "metadata": {},
   "outputs": [
    {
     "data": {
      "application/vnd.plotly.v1+json": {
       "config": {
        "plotlyServerURL": "https://plot.ly"
       },
       "data": [
        {
         "alignmentgroup": "True",
         "hovertemplate": "Duration (seconds)=%{x}<br>Weather Conditions=%{y}<extra></extra>",
         "legendgroup": "",
         "marker": {
          "color": "#F8766D"
         },
         "name": "",
         "notched": false,
         "offsetgroup": "",
         "orientation": "h",
         "showlegend": false,
         "type": "box",
         "x": [
          2410,
          1920,
          1543,
          2512,
          1440,
          1320,
          2969,
          2280,
          2460,
          2040,
          1500,
          2040,
          1470,
          1546,
          2100,
          60,
          2640,
          1502,
          1915,
          2769,
          2250,
          1260,
          2826,
          3360,
          3180,
          2100,
          1800,
          2289,
          1494,
          1560,
          1980,
          2115,
          1506,
          2580,
          2460,
          1620,
          1163,
          1533,
          1477,
          1984,
          2940,
          1320,
          1440,
          1260,
          1560,
          1683,
          1343,
          1742,
          1560,
          1358,
          1980,
          2760,
          2460,
          1380,
          1440,
          1620,
          1415,
          1325,
          1920,
          2100,
          1320,
          1260,
          1260,
          1200,
          1320,
          2363,
          2280,
          1320,
          1140,
          2520,
          3000,
          1140,
          3084,
          1380,
          1380,
          1380,
          1380,
          2213,
          3120,
          4800,
          1260,
          1346,
          2843,
          1435,
          2426,
          1740,
          2340,
          2075,
          1333,
          2574,
          2441,
          3300,
          1511,
          2460,
          2220,
          2551,
          1200,
          2062,
          2999,
          1677,
          1177,
          1475,
          1980,
          3201,
          2760,
          1380,
          1380,
          1320,
          1277,
          1213,
          4044,
          1680,
          2074,
          2782,
          2591,
          3120,
          1260,
          1380,
          1440,
          3300,
          3240,
          1869,
          1218,
          1620,
          1380,
          1380,
          1380,
          1320,
          2123,
          1384,
          1260,
          3060,
          3480,
          2071,
          3024,
          1380,
          1200,
          3300,
          2100,
          1560,
          2760,
          2460,
          1740,
          1667,
          2056,
          1473,
          2340,
          3180,
          2220,
          3540,
          2778,
          1420,
          1920,
          3480,
          1980,
          2055,
          2240,
          2380,
          2160,
          1539,
          1591,
          2588,
          1162,
          0,
          1260,
          2940,
          2340,
          2220,
          0,
          1380,
          2220,
          1140,
          1239,
          1380,
          2820,
          3060,
          3130,
          2877,
          2934,
          1260,
          3270,
          1860,
          2054,
          2293,
          1500,
          2880,
          1473,
          1384,
          2525,
          1323,
          1323,
          2160,
          1500,
          1487,
          1020,
          1140,
          1440,
          1883,
          2225,
          2415,
          3411,
          2571,
          2640,
          480,
          0,
          1414,
          1981,
          1200,
          2160,
          2400,
          1500,
          3660,
          1740,
          2580,
          2940,
          1260,
          1380,
          3600,
          2100,
          1366,
          1717,
          2441,
          2479,
          1439,
          1207,
          1680,
          1440,
          1560,
          2112,
          2160,
          1380,
          1200,
          2328,
          2580,
          1620,
          1217,
          1237,
          1074,
          2120,
          1404,
          1243,
          1226,
          2100,
          1320,
          1123,
          1504,
          1439,
          2811,
          2094,
          1430,
          1260,
          1421,
          3026,
          2006,
          3120,
          1380,
          1415,
          3390,
          2994,
          1476,
          1620,
          2640,
          1380,
          1332,
          2760,
          2940,
          1260,
          2956,
          1304,
          1676,
          1380,
          2700,
          2700,
          2928,
          3332,
          3008,
          4980,
          1737,
          1380,
          1365,
          2842,
          1680,
          1872,
          2255,
          1320,
          2620,
          2740,
          1498,
          1443,
          1200,
          2460,
          1440,
          1680,
          3360,
          1404,
          3660,
          2640,
          2981,
          1363,
          1839,
          1500,
          1500,
          2412,
          3780,
          3900,
          2897,
          1201,
          2444,
          1860,
          2460,
          2220,
          2995,
          1643,
          1530,
          1441,
          2425,
          1386,
          2280,
          3317,
          1758,
          3000,
          1496,
          2940,
          1740,
          3057,
          2611,
          3887,
          2400,
          1320,
          1623,
          1554,
          1391,
          1140,
          1260,
          1740,
          1380,
          1560,
          2880,
          1620,
          2040,
          1440,
          1672,
          2141,
          1260,
          2880,
          2271,
          2606,
          2460,
          1800,
          1547,
          1320,
          2580,
          2280,
          4140,
          7440,
          2400,
          2618,
          1320,
          2820,
          2820,
          2940,
          2940,
          2274,
          1440,
          1709,
          2761,
          2400,
          1620,
          1354,
          1473,
          1200,
          1596,
          2037,
          3180,
          2040,
          1980,
          1620,
          1680,
          1686,
          2940,
          1261,
          2640,
          1140,
          2040,
          1440,
          2520,
          3000,
          1380,
          1610,
          1708,
          1422,
          1500,
          1740,
          2982,
          1322,
          2894,
          1217,
          2340,
          2640,
          1560,
          3427,
          2418,
          2458,
          2400,
          1961,
          2885,
          1293,
          1320,
          1320,
          3615,
          3420,
          1270,
          1335,
          1219,
          1336,
          1331,
          1571,
          2286,
          1563,
          1541,
          1680,
          3180,
          1338,
          1440,
          420,
          1440,
          1443,
          2700,
          1372,
          2286,
          1421,
          3203,
          1419,
          2220,
          1346,
          1553,
          2204,
          3528,
          2262,
          2100,
          1380,
          2091,
          1205,
          1259,
          1134,
          2694,
          2410,
          1440,
          2520,
          1560,
          1200,
          2220,
          2160,
          1620,
          1860,
          2820,
          3394,
          2820,
          2820,
          1560,
          1560,
          1968,
          1200,
          1860,
          1380,
          2460,
          1602,
          1409,
          1740,
          2460,
          1310,
          1594,
          2412,
          2193,
          1874,
          2983,
          3540,
          2340,
          1200,
          2280,
          1380,
          2760,
          3000,
          2700,
          3000,
          3480,
          2040,
          1680,
          2280,
          2820,
          2880,
          2280,
          2285,
          1301,
          3480,
          2940,
          2760,
          1260,
          1736,
          2351,
          2220,
          2733,
          2040,
          2100,
          2460,
          2460,
          3510,
          2460,
          2560,
          2040,
          1277,
          2220,
          2760,
          3286,
          2800,
          1362,
          2577,
          3261,
          2580,
          1878,
          2697,
          3351,
          1513,
          1260,
          1500,
          1800,
          1395,
          1977,
          1620,
          1740,
          1440,
          2220,
          2133,
          3240,
          2895,
          1380,
          2122,
          1432,
          2427,
          2700,
          1860,
          1200,
          1980,
          1500,
          1980,
          3059,
          1832,
          1757,
          3396,
          3461,
          2333,
          2103,
          0,
          2330,
          2563,
          1203,
          2761,
          2029,
          1351,
          2640,
          1380,
          1260,
          1975,
          1200,
          1296,
          1440,
          1440,
          2133,
          2580,
          2889,
          1800,
          2280,
          2340,
          1380,
          2531,
          1500,
          2280,
          2580,
          3614,
          2722,
          3420,
          1320,
          2330,
          4980,
          1320,
          1800,
          1620,
          3240,
          2580,
          2606,
          2460,
          2825,
          1622,
          2015,
          1417,
          3420,
          2280,
          1282,
          3094,
          3180,
          2520,
          1374,
          2220,
          1140,
          2757,
          3420,
          1260,
          2213,
          1344,
          1243,
          1794,
          2700,
          1320,
          1620,
          3460,
          3000,
          3300,
          2760,
          2340,
          6420,
          1200,
          2345,
          1860,
          1620,
          1740,
          3540,
          1260,
          1140,
          1200,
          1472,
          1280,
          2877,
          1412,
          1260,
          1260,
          2196,
          3480,
          2400,
          1608,
          2091,
          2332,
          2100,
          1980,
          2203,
          2040,
          2460,
          4380,
          1500,
          2675,
          2640,
          2333,
          3172,
          2340,
          1516,
          3840,
          1260,
          1440,
          1260,
          2700,
          1320,
          1355,
          1465,
          1933,
          2010,
          1740,
          1620,
          1260,
          2040,
          3300,
          1380,
          1594,
          2256,
          3022,
          3540,
          2580,
          3840,
          2765,
          2540,
          3058,
          2400,
          2400,
          1267,
          1267,
          2151,
          2151,
          2550,
          1260,
          1320,
          2640,
          1440,
          2700,
          2880,
          1800,
          2580,
          3420,
          1500,
          2172,
          1560,
          1920,
          2640,
          2640,
          2460,
          1260,
          3360,
          2400,
          1680,
          2880,
          2963,
          2178,
          2963,
          3540,
          2475,
          2575,
          1063,
          1747,
          1417,
          2175,
          1560,
          2220,
          3600,
          1200,
          2356,
          1934,
          2155,
          1211,
          1260,
          3214,
          2693,
          3335,
          2520,
          2280,
          1683,
          3120,
          1466,
          1828,
          2522,
          2948,
          1080,
          2493,
          2460,
          2220,
          1595,
          2340,
          1182,
          1566,
          1332,
          3180,
          2220,
          1843,
          1737,
          3420,
          1586,
          1532,
          2820,
          3240,
          2400,
          3180,
          1620,
          2195,
          2040,
          3300,
          2760,
          2400,
          1320,
          1440,
          1620,
          1095,
          2929,
          2310,
          1364,
          1299,
          1200,
          1260,
          2032,
          1316,
          1454,
          1909,
          1494,
          1529,
          2548,
          1748,
          1993,
          2400,
          2280,
          2089,
          1646,
          1980,
          1406,
          3779,
          3366,
          3180,
          1260,
          1260,
          3060,
          1380,
          2220,
          3000,
          1395,
          3982,
          2657,
          2454,
          0,
          3300,
          1427,
          1436,
          2205,
          1359,
          2083,
          2312,
          2472,
          2580,
          2287,
          2467,
          2312,
          1620,
          2880,
          2580,
          2820,
          2464,
          2640,
          2903,
          1440,
          2233,
          1440,
          2580,
          2160,
          2310,
          1500,
          1680,
          1440,
          1440,
          1680,
          1440,
          1440,
          3180,
          1200,
          1348,
          2520,
          2274,
          3292,
          1740,
          2520,
          1462,
          1916,
          2456,
          1200,
          1380,
          1405,
          3482,
          1313,
          1265,
          1320,
          3120,
          1380,
          1500,
          1500,
          1311,
          2580,
          1740,
          1500,
          480,
          2760,
          2465,
          3360,
          1980,
          2294,
          1320,
          3000,
          1440,
          1800,
          2804,
          1860,
          2239,
          2820,
          1018,
          1416,
          1456,
          1520,
          1560,
          1080,
          1320,
          1800,
          3448,
          1690,
          1331,
          1500,
          1978,
          1497,
          2820,
          1680,
          1680,
          1335,
          2263,
          1560,
          2632,
          2964,
          1656,
          2400,
          2460,
          3480,
          1491,
          2757,
          1975,
          2148,
          3180,
          3720,
          1800,
          1484,
          1680,
          2767,
          2520,
          1860,
          2488,
          1200,
          1265,
          2325,
          1500,
          1568,
          3420,
          1519,
          1380,
          2518,
          1495,
          1380,
          1800,
          3831,
          1516,
          1260,
          2400,
          1440,
          1800,
          2220,
          3180,
          1200,
          3000,
          1538,
          1673,
          3539,
          1341,
          1425,
          1340,
          1203,
          1997,
          1519,
          1462,
          3699,
          3180,
          2475,
          1260,
          2220,
          3684,
          1715,
          1440,
          3526,
          1638,
          1775,
          2460,
          1861,
          1363,
          1260,
          1486,
          2491,
          1565,
          2760,
          1920,
          1392,
          2132,
          2700,
          1331,
          1379,
          1800,
          2340,
          2460,
          1748,
          3000,
          1680,
          1584,
          1680,
          1620,
          1140,
          2134,
          1860,
          2220,
          1731,
          2400,
          1800,
          3291,
          2700,
          1392,
          3262,
          1670,
          1380,
          1384,
          2580,
          1365,
          1500,
          2110,
          1990,
          2340,
          2114,
          1200,
          2744,
          1601,
          1483,
          2400,
          2704,
          2898,
          2280,
          1923,
          2055,
          3240,
          3660,
          1500,
          2200,
          2926,
          2449,
          1254,
          2340,
          2160,
          2400,
          1260,
          1330,
          1560,
          1339,
          1380,
          1380,
          2400,
          2634,
          3604,
          1174,
          1385,
          2560,
          1908,
          1260,
          1500,
          1740,
          1380,
          1280,
          1168,
          1200,
          3207,
          1200,
          1380,
          2693,
          2554,
          2520,
          1782,
          2700,
          2280,
          3144,
          2280,
          2700,
          3240,
          2400,
          1380,
          2099,
          3275,
          2492,
          1440,
          1303,
          2700,
          2186,
          1500,
          0,
          1318,
          2100,
          1380,
          2834
         ],
         "x0": " ",
         "xaxis": "x",
         "y": [
          "Good",
          "Good",
          "Good",
          "Good",
          "Good",
          "Good",
          "Bad",
          "Good",
          "Good",
          "Good",
          "Good",
          "Good",
          "Good",
          "Good",
          "Good",
          "Good",
          "Good",
          "Good",
          "Good",
          "Good",
          "Good",
          "Good",
          "Good",
          "Good",
          "Good",
          "Good",
          "Good",
          "Good",
          "Good",
          "Good",
          "Bad",
          "Good",
          "Good",
          "Good",
          "Bad",
          "Good",
          "Good",
          "Good",
          "Good",
          "Good",
          "Good",
          "Good",
          "Good",
          "Good",
          "Good",
          "Good",
          "Good",
          "Good",
          "Good",
          "Good",
          "Good",
          "Bad",
          "Bad",
          "Good",
          "Bad",
          "Good",
          "Good",
          "Good",
          "Good",
          "Good",
          "Good",
          "Good",
          "Good",
          "Good",
          "Good",
          "Bad",
          "Good",
          "Good",
          "Good",
          "Good",
          "Bad",
          "Good",
          "Good",
          "Good",
          "Good",
          "Good",
          "Good",
          "Good",
          "Bad",
          "Good",
          "Good",
          "Good",
          "Good",
          "Good",
          "Good",
          "Good",
          "Good",
          "Good",
          "Good",
          "Good",
          "Good",
          "Good",
          "Bad",
          "Good",
          "Good",
          "Good",
          "Good",
          "Good",
          "Good",
          "Good",
          "Good",
          "Good",
          "Bad",
          "Good",
          "Good",
          "Good",
          "Good",
          "Bad",
          "Good",
          "Good",
          "Bad",
          "Good",
          "Good",
          "Bad",
          "Good",
          "Good",
          "Good",
          "Good",
          "Good",
          "Good",
          "Good",
          "Good",
          "Good",
          "Good",
          "Good",
          "Good",
          "Good",
          "Good",
          "Good",
          "Good",
          "Good",
          "Good",
          "Good",
          "Good",
          "Bad",
          "Good",
          "Good",
          "Bad",
          "Good",
          "Good",
          "Good",
          "Good",
          "Good",
          "Good",
          "Good",
          "Good",
          "Good",
          "Bad",
          "Good",
          "Good",
          "Good",
          "Good",
          "Good",
          "Good",
          "Good",
          "Bad",
          "Good",
          "Good",
          "Good",
          "Good",
          "Good",
          "Good",
          "Good",
          "Good",
          "Bad",
          "Bad",
          "Bad",
          "Bad",
          "Good",
          "Good",
          "Good",
          "Good",
          "Good",
          "Good",
          "Good",
          "Good",
          "Bad",
          "Good",
          "Bad",
          "Good",
          "Bad",
          "Good",
          "Good",
          "Good",
          "Good",
          "Good",
          "Good",
          "Good",
          "Good",
          "Good",
          "Good",
          "Good",
          "Bad",
          "Good",
          "Good",
          "Good",
          "Bad",
          "Good",
          "Good",
          "Good",
          "Good",
          "Bad",
          "Good",
          "Bad",
          "Good",
          "Good",
          "Good",
          "Good",
          "Good",
          "Good",
          "Good",
          "Good",
          "Good",
          "Bad",
          "Good",
          "Good",
          "Good",
          "Good",
          "Bad",
          "Bad",
          "Good",
          "Good",
          "Good",
          "Good",
          "Good",
          "Good",
          "Good",
          "Bad",
          "Good",
          "Good",
          "Good",
          "Good",
          "Good",
          "Bad",
          "Good",
          "Good",
          "Good",
          "Good",
          "Good",
          "Bad",
          "Good",
          "Good",
          "Good",
          "Good",
          "Good",
          "Good",
          "Good",
          "Bad",
          "Good",
          "Good",
          "Good",
          "Good",
          "Bad",
          "Good",
          "Good",
          "Good",
          "Good",
          "Bad",
          "Good",
          "Good",
          "Good",
          "Bad",
          "Good",
          "Good",
          "Good",
          "Bad",
          "Good",
          "Good",
          "Good",
          "Good",
          "Good",
          "Bad",
          "Good",
          "Good",
          "Good",
          "Good",
          "Bad",
          "Good",
          "Good",
          "Good",
          "Good",
          "Good",
          "Good",
          "Bad",
          "Good",
          "Bad",
          "Good",
          "Good",
          "Good",
          "Good",
          "Good",
          "Good",
          "Good",
          "Good",
          "Good",
          "Good",
          "Bad",
          "Bad",
          "Good",
          "Good",
          "Good",
          "Good",
          "Good",
          "Good",
          "Good",
          "Good",
          "Good",
          "Good",
          "Good",
          "Good",
          "Bad",
          "Bad",
          "Good",
          "Good",
          "Good",
          "Good",
          "Good",
          "Good",
          "Bad",
          "Good",
          "Good",
          "Good",
          "Good",
          "Good",
          "Good",
          "Good",
          "Good",
          "Good",
          "Good",
          "Good",
          "Good",
          "Good",
          "Good",
          "Good",
          "Good",
          "Good",
          "Good",
          "Bad",
          "Good",
          "Good",
          "Bad",
          "Good",
          "Good",
          "Good",
          "Bad",
          "Good",
          "Good",
          "Good",
          "Good",
          "Good",
          "Good",
          "Good",
          "Good",
          "Good",
          "Good",
          "Good",
          "Bad",
          "Good",
          "Bad",
          "Bad",
          "Good",
          "Good",
          "Good",
          "Good",
          "Good",
          "Good",
          "Good",
          "Good",
          "Good",
          "Good",
          "Good",
          "Good",
          "Good",
          "Good",
          "Good",
          "Good",
          "Good",
          "Bad",
          "Good",
          "Good",
          "Good",
          "Bad",
          "Good",
          "Good",
          "Good",
          "Good",
          "Bad",
          "Good",
          "Bad",
          "Good",
          "Good",
          "Good",
          "Bad",
          "Good",
          "Bad",
          "Bad",
          "Good",
          "Bad",
          "Good",
          "Good",
          "Good",
          "Good",
          "Bad",
          "Good",
          "Good",
          "Good",
          "Good",
          "Good",
          "Good",
          "Good",
          "Bad",
          "Good",
          "Good",
          "Good",
          "Good",
          "Good",
          "Good",
          "Good",
          "Good",
          "Good",
          "Good",
          "Good",
          "Good",
          "Good",
          "Good",
          "Good",
          "Good",
          "Good",
          "Good",
          "Good",
          "Good",
          "Good",
          "Good",
          "Good",
          "Good",
          "Good",
          "Good",
          "Good",
          "Good",
          "Good",
          "Good",
          "Good",
          "Good",
          "Good",
          "Good",
          "Good",
          "Good",
          "Good",
          "Good",
          "Bad",
          "Good",
          "Good",
          "Good",
          "Good",
          "Good",
          "Bad",
          "Good",
          "Good",
          "Good",
          "Good",
          "Good",
          "Good",
          "Good",
          "Good",
          "Good",
          "Good",
          "Good",
          "Good",
          "Good",
          "Good",
          "Good",
          "Bad",
          "Good",
          "Good",
          "Good",
          "Good",
          "Good",
          "Good",
          "Good",
          "Good",
          "Good",
          "Good",
          "Good",
          "Bad",
          "Good",
          "Bad",
          "Bad",
          "Bad",
          "Good",
          "Good",
          "Bad",
          "Bad",
          "Good",
          "Good",
          "Bad",
          "Bad",
          "Bad",
          "Bad",
          "Good",
          "Good",
          "Good",
          "Good",
          "Bad",
          "Good",
          "Good",
          "Bad",
          "Good",
          "Good",
          "Good",
          "Good",
          "Good",
          "Good",
          "Good",
          "Good",
          "Good",
          "Good",
          "Good",
          "Good",
          "Bad",
          "Good",
          "Good",
          "Good",
          "Good",
          "Good",
          "Bad",
          "Good",
          "Good",
          "Good",
          "Good",
          "Bad",
          "Good",
          "Bad",
          "Bad",
          "Bad",
          "Good",
          "Good",
          "Good",
          "Good",
          "Good",
          "Good",
          "Good",
          "Good",
          "Good",
          "Good",
          "Good",
          "Good",
          "Good",
          "Good",
          "Good",
          "Bad",
          "Good",
          "Good",
          "Good",
          "Good",
          "Good",
          "Good",
          "Bad",
          "Good",
          "Good",
          "Good",
          "Good",
          "Good",
          "Good",
          "Good",
          "Good",
          "Good",
          "Good",
          "Good",
          "Bad",
          "Good",
          "Good",
          "Bad",
          "Good",
          "Bad",
          "Good",
          "Good",
          "Bad",
          "Bad",
          "Good",
          "Good",
          "Good",
          "Good",
          "Bad",
          "Good",
          "Good",
          "Good",
          "Bad",
          "Good",
          "Bad",
          "Bad",
          "Good",
          "Good",
          "Good",
          "Good",
          "Good",
          "Good",
          "Good",
          "Good",
          "Good",
          "Bad",
          "Good",
          "Good",
          "Good",
          "Good",
          "Good",
          "Good",
          "Bad",
          "Good",
          "Good",
          "Good",
          "Good",
          "Good",
          "Good",
          "Good",
          "Good",
          "Bad",
          "Bad",
          "Good",
          "Good",
          "Good",
          "Good",
          "Good",
          "Good",
          "Good",
          "Good",
          "Bad",
          "Good",
          "Good",
          "Bad",
          "Good",
          "Good",
          "Bad",
          "Good",
          "Good",
          "Good",
          "Good",
          "Good",
          "Good",
          "Bad",
          "Good",
          "Bad",
          "Good",
          "Good",
          "Good",
          "Good",
          "Good",
          "Good",
          "Good",
          "Good",
          "Good",
          "Bad",
          "Good",
          "Bad",
          "Good",
          "Good",
          "Good",
          "Good",
          "Good",
          "Bad",
          "Good",
          "Good",
          "Good",
          "Good",
          "Good",
          "Good",
          "Good",
          "Good",
          "Good",
          "Good",
          "Good",
          "Good",
          "Good",
          "Bad",
          "Good",
          "Bad",
          "Good",
          "Bad",
          "Good",
          "Bad",
          "Good",
          "Good",
          "Good",
          "Good",
          "Bad",
          "Bad",
          "Good",
          "Good",
          "Good",
          "Good",
          "Good",
          "Good",
          "Good",
          "Good",
          "Good",
          "Bad",
          "Good",
          "Bad",
          "Good",
          "Good",
          "Bad",
          "Bad",
          "Good",
          "Good",
          "Good",
          "Good",
          "Good",
          "Good",
          "Good",
          "Good",
          "Good",
          "Good",
          "Good",
          "Good",
          "Good",
          "Good",
          "Bad",
          "Bad",
          "Bad",
          "Good",
          "Bad",
          "Good",
          "Good",
          "Good",
          "Good",
          "Good",
          "Good",
          "Good",
          "Good",
          "Good",
          "Good",
          "Good",
          "Good",
          "Bad",
          "Good",
          "Good",
          "Good",
          "Good",
          "Good",
          "Good",
          "Good",
          "Good",
          "Good",
          "Bad",
          "Bad",
          "Good",
          "Bad",
          "Bad",
          "Bad",
          "Good",
          "Good",
          "Bad",
          "Good",
          "Good",
          "Bad",
          "Good",
          "Good",
          "Good",
          "Good",
          "Good",
          "Good",
          "Good",
          "Bad",
          "Good",
          "Good",
          "Good",
          "Good",
          "Good",
          "Good",
          "Good",
          "Good",
          "Good",
          "Good",
          "Bad",
          "Good",
          "Good",
          "Bad",
          "Good",
          "Good",
          "Good",
          "Good",
          "Bad",
          "Good",
          "Good",
          "Bad",
          "Good",
          "Good",
          "Good",
          "Good",
          "Bad",
          "Good",
          "Good",
          "Good",
          "Good",
          "Bad",
          "Good",
          "Good",
          "Good",
          "Good",
          "Good",
          "Good",
          "Good",
          "Good",
          "Good",
          "Good",
          "Good",
          "Good",
          "Good",
          "Bad",
          "Good",
          "Bad",
          "Bad",
          "Good",
          "Bad",
          "Good",
          "Good",
          "Good",
          "Good",
          "Bad",
          "Good",
          "Good",
          "Bad",
          "Good",
          "Good",
          "Good",
          "Good",
          "Good",
          "Good",
          "Good",
          "Good",
          "Good",
          "Good",
          "Good",
          "Good",
          "Good",
          "Bad",
          "Good",
          "Good",
          "Bad",
          "Good",
          "Good",
          "Good",
          "Good",
          "Good",
          "Good",
          "Good",
          "Good",
          "Good",
          "Good",
          "Good",
          "Bad",
          "Good",
          "Good",
          "Bad",
          "Good",
          "Good",
          "Good",
          "Good",
          "Good",
          "Good",
          "Good",
          "Bad",
          "Bad",
          "Good",
          "Bad",
          "Good",
          "Good",
          "Bad",
          "Good",
          "Good",
          "Good",
          "Good",
          "Good",
          "Good",
          "Good",
          "Good",
          "Good",
          "Good",
          "Good",
          "Good",
          "Good",
          "Good",
          "Good",
          "Good",
          "Good",
          "Good",
          "Good",
          "Good",
          "Bad",
          "Bad",
          "Good",
          "Good",
          "Good",
          "Good",
          "Good",
          "Good",
          "Good",
          "Good",
          "Good",
          "Bad",
          "Good",
          "Good",
          "Good",
          "Good",
          "Good",
          "Good",
          "Bad",
          "Good",
          "Good",
          "Good",
          "Good",
          "Good",
          "Good",
          "Bad",
          "Good",
          "Good",
          "Good",
          "Good",
          "Good",
          "Bad",
          "Good",
          "Good",
          "Bad",
          "Bad",
          "Good",
          "Good",
          "Good",
          "Good",
          "Good",
          "Good",
          "Good",
          "Good",
          "Good",
          "Good",
          "Good",
          "Good",
          "Good",
          "Good",
          "Good",
          "Good",
          "Good",
          "Good",
          "Good",
          "Good",
          "Good",
          "Good",
          "Good",
          "Good",
          "Good",
          "Good",
          "Good",
          "Good",
          "Good",
          "Good",
          "Bad",
          "Good",
          "Bad",
          "Good",
          "Good",
          "Good",
          "Good",
          "Good",
          "Good",
          "Bad",
          "Good",
          "Good",
          "Good",
          "Bad",
          "Bad",
          "Bad",
          "Good",
          "Good",
          "Bad",
          "Good",
          "Good",
          "Good",
          "Good",
          "Good",
          "Good",
          "Bad",
          "Good",
          "Bad",
          "Good",
          "Good",
          "Good",
          "Good",
          "Good",
          "Good",
          "Good",
          "Good",
          "Good",
          "Good",
          "Good",
          "Good",
          "Bad",
          "Good",
          "Good",
          "Good",
          "Good",
          "Bad",
          "Good",
          "Bad",
          "Good",
          "Good",
          "Bad",
          "Good",
          "Good",
          "Good",
          "Good",
          "Good",
          "Good",
          "Bad",
          "Good",
          "Good",
          "Good",
          "Bad",
          "Good",
          "Good",
          "Good",
          "Good",
          "Good",
          "Good",
          "Good",
          "Good",
          "Good",
          "Good",
          "Good",
          "Good",
          "Good",
          "Good",
          "Good",
          "Good",
          "Bad",
          "Bad",
          "Good",
          "Good",
          "Good",
          "Good",
          "Good",
          "Good",
          "Good",
          "Good",
          "Good",
          "Good",
          "Good",
          "Good",
          "Good",
          "Good",
          "Good",
          "Good",
          "Good",
          "Good",
          "Good",
          "Good",
          "Bad",
          "Good",
          "Good",
          "Good",
          "Good",
          "Good",
          "Good",
          "Good",
          "Bad",
          "Good",
          "Good",
          "Good",
          "Good",
          "Good",
          "Bad"
         ],
         "y0": " ",
         "yaxis": "y"
        }
       ],
       "layout": {
        "boxmode": "group",
        "legend": {
         "tracegroupgap": 0
        },
        "template": {
         "data": {
          "bar": [
           {
            "error_x": {
             "color": "rgb(51,51,51)"
            },
            "error_y": {
             "color": "rgb(51,51,51)"
            },
            "marker": {
             "line": {
              "color": "rgb(237,237,237)",
              "width": 0.5
             },
             "pattern": {
              "fillmode": "overlay",
              "size": 10,
              "solidity": 0.2
             }
            },
            "type": "bar"
           }
          ],
          "barpolar": [
           {
            "marker": {
             "line": {
              "color": "rgb(237,237,237)",
              "width": 0.5
             },
             "pattern": {
              "fillmode": "overlay",
              "size": 10,
              "solidity": 0.2
             }
            },
            "type": "barpolar"
           }
          ],
          "carpet": [
           {
            "aaxis": {
             "endlinecolor": "rgb(51,51,51)",
             "gridcolor": "white",
             "linecolor": "white",
             "minorgridcolor": "white",
             "startlinecolor": "rgb(51,51,51)"
            },
            "baxis": {
             "endlinecolor": "rgb(51,51,51)",
             "gridcolor": "white",
             "linecolor": "white",
             "minorgridcolor": "white",
             "startlinecolor": "rgb(51,51,51)"
            },
            "type": "carpet"
           }
          ],
          "choropleth": [
           {
            "colorbar": {
             "outlinewidth": 0,
             "tickcolor": "rgb(237,237,237)",
             "ticklen": 6,
             "ticks": "inside"
            },
            "type": "choropleth"
           }
          ],
          "contour": [
           {
            "colorbar": {
             "outlinewidth": 0,
             "tickcolor": "rgb(237,237,237)",
             "ticklen": 6,
             "ticks": "inside"
            },
            "colorscale": [
             [
              0,
              "rgb(20,44,66)"
             ],
             [
              1,
              "rgb(90,179,244)"
             ]
            ],
            "type": "contour"
           }
          ],
          "contourcarpet": [
           {
            "colorbar": {
             "outlinewidth": 0,
             "tickcolor": "rgb(237,237,237)",
             "ticklen": 6,
             "ticks": "inside"
            },
            "type": "contourcarpet"
           }
          ],
          "heatmap": [
           {
            "colorbar": {
             "outlinewidth": 0,
             "tickcolor": "rgb(237,237,237)",
             "ticklen": 6,
             "ticks": "inside"
            },
            "colorscale": [
             [
              0,
              "rgb(20,44,66)"
             ],
             [
              1,
              "rgb(90,179,244)"
             ]
            ],
            "type": "heatmap"
           }
          ],
          "heatmapgl": [
           {
            "colorbar": {
             "outlinewidth": 0,
             "tickcolor": "rgb(237,237,237)",
             "ticklen": 6,
             "ticks": "inside"
            },
            "colorscale": [
             [
              0,
              "rgb(20,44,66)"
             ],
             [
              1,
              "rgb(90,179,244)"
             ]
            ],
            "type": "heatmapgl"
           }
          ],
          "histogram": [
           {
            "marker": {
             "pattern": {
              "fillmode": "overlay",
              "size": 10,
              "solidity": 0.2
             }
            },
            "type": "histogram"
           }
          ],
          "histogram2d": [
           {
            "colorbar": {
             "outlinewidth": 0,
             "tickcolor": "rgb(237,237,237)",
             "ticklen": 6,
             "ticks": "inside"
            },
            "colorscale": [
             [
              0,
              "rgb(20,44,66)"
             ],
             [
              1,
              "rgb(90,179,244)"
             ]
            ],
            "type": "histogram2d"
           }
          ],
          "histogram2dcontour": [
           {
            "colorbar": {
             "outlinewidth": 0,
             "tickcolor": "rgb(237,237,237)",
             "ticklen": 6,
             "ticks": "inside"
            },
            "colorscale": [
             [
              0,
              "rgb(20,44,66)"
             ],
             [
              1,
              "rgb(90,179,244)"
             ]
            ],
            "type": "histogram2dcontour"
           }
          ],
          "mesh3d": [
           {
            "colorbar": {
             "outlinewidth": 0,
             "tickcolor": "rgb(237,237,237)",
             "ticklen": 6,
             "ticks": "inside"
            },
            "type": "mesh3d"
           }
          ],
          "parcoords": [
           {
            "line": {
             "colorbar": {
              "outlinewidth": 0,
              "tickcolor": "rgb(237,237,237)",
              "ticklen": 6,
              "ticks": "inside"
             }
            },
            "type": "parcoords"
           }
          ],
          "pie": [
           {
            "automargin": true,
            "type": "pie"
           }
          ],
          "scatter": [
           {
            "fillpattern": {
             "fillmode": "overlay",
             "size": 10,
             "solidity": 0.2
            },
            "type": "scatter"
           }
          ],
          "scatter3d": [
           {
            "line": {
             "colorbar": {
              "outlinewidth": 0,
              "tickcolor": "rgb(237,237,237)",
              "ticklen": 6,
              "ticks": "inside"
             }
            },
            "marker": {
             "colorbar": {
              "outlinewidth": 0,
              "tickcolor": "rgb(237,237,237)",
              "ticklen": 6,
              "ticks": "inside"
             }
            },
            "type": "scatter3d"
           }
          ],
          "scattercarpet": [
           {
            "marker": {
             "colorbar": {
              "outlinewidth": 0,
              "tickcolor": "rgb(237,237,237)",
              "ticklen": 6,
              "ticks": "inside"
             }
            },
            "type": "scattercarpet"
           }
          ],
          "scattergeo": [
           {
            "marker": {
             "colorbar": {
              "outlinewidth": 0,
              "tickcolor": "rgb(237,237,237)",
              "ticklen": 6,
              "ticks": "inside"
             }
            },
            "type": "scattergeo"
           }
          ],
          "scattergl": [
           {
            "marker": {
             "colorbar": {
              "outlinewidth": 0,
              "tickcolor": "rgb(237,237,237)",
              "ticklen": 6,
              "ticks": "inside"
             }
            },
            "type": "scattergl"
           }
          ],
          "scattermapbox": [
           {
            "marker": {
             "colorbar": {
              "outlinewidth": 0,
              "tickcolor": "rgb(237,237,237)",
              "ticklen": 6,
              "ticks": "inside"
             }
            },
            "type": "scattermapbox"
           }
          ],
          "scatterpolar": [
           {
            "marker": {
             "colorbar": {
              "outlinewidth": 0,
              "tickcolor": "rgb(237,237,237)",
              "ticklen": 6,
              "ticks": "inside"
             }
            },
            "type": "scatterpolar"
           }
          ],
          "scatterpolargl": [
           {
            "marker": {
             "colorbar": {
              "outlinewidth": 0,
              "tickcolor": "rgb(237,237,237)",
              "ticklen": 6,
              "ticks": "inside"
             }
            },
            "type": "scatterpolargl"
           }
          ],
          "scatterternary": [
           {
            "marker": {
             "colorbar": {
              "outlinewidth": 0,
              "tickcolor": "rgb(237,237,237)",
              "ticklen": 6,
              "ticks": "inside"
             }
            },
            "type": "scatterternary"
           }
          ],
          "surface": [
           {
            "colorbar": {
             "outlinewidth": 0,
             "tickcolor": "rgb(237,237,237)",
             "ticklen": 6,
             "ticks": "inside"
            },
            "colorscale": [
             [
              0,
              "rgb(20,44,66)"
             ],
             [
              1,
              "rgb(90,179,244)"
             ]
            ],
            "type": "surface"
           }
          ],
          "table": [
           {
            "cells": {
             "fill": {
              "color": "rgb(237,237,237)"
             },
             "line": {
              "color": "white"
             }
            },
            "header": {
             "fill": {
              "color": "rgb(217,217,217)"
             },
             "line": {
              "color": "white"
             }
            },
            "type": "table"
           }
          ]
         },
         "layout": {
          "annotationdefaults": {
           "arrowhead": 0,
           "arrowwidth": 1
          },
          "autotypenumbers": "strict",
          "coloraxis": {
           "colorbar": {
            "outlinewidth": 0,
            "tickcolor": "rgb(237,237,237)",
            "ticklen": 6,
            "ticks": "inside"
           }
          },
          "colorscale": {
           "sequential": [
            [
             0,
             "rgb(20,44,66)"
            ],
            [
             1,
             "rgb(90,179,244)"
            ]
           ],
           "sequentialminus": [
            [
             0,
             "rgb(20,44,66)"
            ],
            [
             1,
             "rgb(90,179,244)"
            ]
           ]
          },
          "colorway": [
           "#F8766D",
           "#A3A500",
           "#00BF7D",
           "#00B0F6",
           "#E76BF3"
          ],
          "font": {
           "color": "rgb(51,51,51)"
          },
          "geo": {
           "bgcolor": "white",
           "lakecolor": "white",
           "landcolor": "rgb(237,237,237)",
           "showlakes": true,
           "showland": true,
           "subunitcolor": "white"
          },
          "hoverlabel": {
           "align": "left"
          },
          "hovermode": "closest",
          "paper_bgcolor": "white",
          "plot_bgcolor": "rgb(237,237,237)",
          "polar": {
           "angularaxis": {
            "gridcolor": "white",
            "linecolor": "white",
            "showgrid": true,
            "tickcolor": "rgb(51,51,51)",
            "ticks": "outside"
           },
           "bgcolor": "rgb(237,237,237)",
           "radialaxis": {
            "gridcolor": "white",
            "linecolor": "white",
            "showgrid": true,
            "tickcolor": "rgb(51,51,51)",
            "ticks": "outside"
           }
          },
          "scene": {
           "xaxis": {
            "backgroundcolor": "rgb(237,237,237)",
            "gridcolor": "white",
            "gridwidth": 2,
            "linecolor": "white",
            "showbackground": true,
            "showgrid": true,
            "tickcolor": "rgb(51,51,51)",
            "ticks": "outside",
            "zerolinecolor": "white"
           },
           "yaxis": {
            "backgroundcolor": "rgb(237,237,237)",
            "gridcolor": "white",
            "gridwidth": 2,
            "linecolor": "white",
            "showbackground": true,
            "showgrid": true,
            "tickcolor": "rgb(51,51,51)",
            "ticks": "outside",
            "zerolinecolor": "white"
           },
           "zaxis": {
            "backgroundcolor": "rgb(237,237,237)",
            "gridcolor": "white",
            "gridwidth": 2,
            "linecolor": "white",
            "showbackground": true,
            "showgrid": true,
            "tickcolor": "rgb(51,51,51)",
            "ticks": "outside",
            "zerolinecolor": "white"
           }
          },
          "shapedefaults": {
           "fillcolor": "black",
           "line": {
            "width": 0
           },
           "opacity": 0.3
          },
          "ternary": {
           "aaxis": {
            "gridcolor": "white",
            "linecolor": "white",
            "showgrid": true,
            "tickcolor": "rgb(51,51,51)",
            "ticks": "outside"
           },
           "baxis": {
            "gridcolor": "white",
            "linecolor": "white",
            "showgrid": true,
            "tickcolor": "rgb(51,51,51)",
            "ticks": "outside"
           },
           "bgcolor": "rgb(237,237,237)",
           "caxis": {
            "gridcolor": "white",
            "linecolor": "white",
            "showgrid": true,
            "tickcolor": "rgb(51,51,51)",
            "ticks": "outside"
           }
          },
          "xaxis": {
           "automargin": true,
           "gridcolor": "white",
           "linecolor": "white",
           "showgrid": true,
           "tickcolor": "rgb(51,51,51)",
           "ticks": "outside",
           "title": {
            "standoff": 15
           },
           "zerolinecolor": "white"
          },
          "yaxis": {
           "automargin": true,
           "gridcolor": "white",
           "linecolor": "white",
           "showgrid": true,
           "tickcolor": "rgb(51,51,51)",
           "ticks": "outside",
           "title": {
            "standoff": 15
           },
           "zerolinecolor": "white"
          }
         }
        },
        "title": {
         "text": "Comparison of Ride Duration on Rainy and Non-Rainy Saturdays"
        },
        "xaxis": {
         "anchor": "y",
         "domain": [
          0,
          1
         ],
         "tickangle": 0,
         "title": {
          "text": "Duration (seconds)"
         }
        },
        "yaxis": {
         "anchor": "x",
         "automargin": true,
         "domain": [
          0,
          1
         ],
         "title": {
          "text": "Weather Conditions"
         }
        }
       }
      }
     },
     "metadata": {},
     "output_type": "display_data"
    }
   ],
   "source": [
    "# Create a box plot directly from the loop_ohare_data\n",
    "fig = px.box(loop_ohare_data,\n",
    "             x='duration_seconds',\n",
    "             y='weather_conditions',\n",
    "             title=\"Comparison of Ride Duration on Rainy and Non-Rainy Saturdays\",\n",
    "             labels={'duration_seconds': 'Duration (seconds)', 'weather_conditions': 'Weather Conditions'},\n",
    "             template='ggplot2')\n",
    "\n",
    "fig.update_layout(xaxis_title='Duration (seconds)',\n",
    "                  yaxis_title='Weather Conditions',\n",
    "                  xaxis=dict(tickangle=0),  # Ensure horizontal x-axis labels\n",
    "                  yaxis=dict(automargin=True))\n",
    "\n",
    "# Show the plot\n",
    "fig.show()"
   ]
  },
  {
   "cell_type": "markdown",
   "metadata": {},
   "source": [
    "Conclusion\n",
    "\n",
    "The box plot shows that ride durations from the Loop to O'Hare are longer on rainy Saturdays compared to non-rainy Saturdays.\n"
   ]
  },
  {
   "cell_type": "markdown",
   "metadata": {},
   "source": [
    "### 7. <a id='toc7_'></a>[Overall Conclusions](#toc0_)\n",
    "\n",
    "1. **Popular Neighborhoods**: The Loop and River North are the top drop-off locations, indicating high demand in these areas. Zuber could focus on optimizing services in these neighborhoods.\n",
    "\n",
    "2. **Taxi Companies**: A few companies dominate the market, such as Flash Cab and Taxi Affiliation Services. Understanding their strategies could help Zuber compete effectively.\n",
    "\n",
    "3. **Impact of Weather**: Rainy weather significantly increases ride durations, especially on Saturdays. Zuber should prepare for potential delays and adjust pricing or resource allocation accordingly.\n",
    "\n",
    "4. **Insights for Growth**: By targeting high-demand neighborhoods, monitoring competitor trends, and addressing weather-related challenges, Zuber can improve its operations and meet customer expectations effectively."
   ]
  }
 ],
 "metadata": {
  "ExecuteTimeLog": [
   {
    "duration": 721,
    "start_time": "2024-12-24T04:37:25.119Z"
   },
   {
    "duration": 18,
    "start_time": "2024-12-24T04:37:25.842Z"
   },
   {
    "duration": 8,
    "start_time": "2024-12-24T04:37:25.862Z"
   },
   {
    "duration": 9,
    "start_time": "2024-12-24T04:37:25.872Z"
   },
   {
    "duration": 8,
    "start_time": "2024-12-24T04:37:25.882Z"
   },
   {
    "duration": 30,
    "start_time": "2024-12-24T04:37:25.892Z"
   },
   {
    "duration": 9,
    "start_time": "2024-12-24T04:37:25.923Z"
   },
   {
    "duration": 6,
    "start_time": "2024-12-24T04:37:25.933Z"
   },
   {
    "duration": 8,
    "start_time": "2024-12-24T04:37:25.940Z"
   },
   {
    "duration": 17,
    "start_time": "2024-12-24T04:37:25.950Z"
   },
   {
    "duration": 48,
    "start_time": "2024-12-24T04:37:25.970Z"
   },
   {
    "duration": 355,
    "start_time": "2024-12-24T04:37:26.019Z"
   },
   {
    "duration": 49,
    "start_time": "2024-12-24T04:37:26.377Z"
   },
   {
    "duration": 11,
    "start_time": "2024-12-24T04:37:26.428Z"
   },
   {
    "duration": 84,
    "start_time": "2024-12-24T04:37:26.441Z"
   }
  ],
  "kernelspec": {
   "display_name": "base",
   "language": "python",
   "name": "python3"
  },
  "language_info": {
   "codemirror_mode": {
    "name": "ipython",
    "version": 3
   },
   "file_extension": ".py",
   "mimetype": "text/x-python",
   "name": "python",
   "nbconvert_exporter": "python",
   "pygments_lexer": "ipython3",
   "version": "3.12.7"
  },
  "toc": {
   "base_numbering": 1,
   "nav_menu": {},
   "number_sections": true,
   "sideBar": true,
   "skip_h1_title": true,
   "title_cell": "Table of Contents",
   "title_sidebar": "Contents",
   "toc_cell": false,
   "toc_position": {},
   "toc_section_display": true,
   "toc_window_display": false
  }
 },
 "nbformat": 4,
 "nbformat_minor": 2
}
